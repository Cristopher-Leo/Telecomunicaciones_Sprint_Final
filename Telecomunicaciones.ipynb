{
 "cells": [
  {
   "cell_type": "markdown",
   "metadata": {},
   "source": [
    "#  Telecomunicaciones: identificar operadores ineficaces"
   ]
  },
  {
   "cell_type": "markdown",
   "metadata": {},
   "source": [
    "## Introduccion \n",
    "\n",
    "### para el servicio de telefonía virtual CallMeMaybe. Este proyecto se centra en una nueva función que busca proporcionar a los supervisores información valiosa sobre la eficiencia de los operadores.\n",
    "\n",
    "### El objetivo principal es identificar a los operadores menos eficaces, aquellos que tienen una gran cantidad de llamadas perdidas y tiempos de espera prolongados. Además, también queremos analizar la eficacia de los operadores encargados de realizar llamadas salientes."
   ]
  },
  {
   "cell_type": "markdown",
   "metadata": {},
   "source": [
    "##  Descripcion  \n",
    "### Vamos a analizar el servicio de telefonía virtual CallMeMaybe, sus clientes son organizaciones que necesitan distribuir gran cantidad de llamadas entrantes y salientes con bastantes operadores, los operadores tambien tienen llamadas internas como apoyo, identificaremos los rendimientos de operadores y de llamadas para verificar que operador es eficas o no y como podemos hacer correciones para elevar rendimientos."
   ]
  },
  {
   "cell_type": "markdown",
   "metadata": {},
   "source": [
    "## Descripcione de los datos \n",
    " \n",
    "   `telecom_dataset_us.csv`\n",
    "- `user_id`: ID de la cuenta de cliente\n",
    "- `date`: fecha en la que se recuperaron las estadísticas\n",
    "- `direction`: \"dirección\" de llamada (`out` para saliente, `in` para entrante)\n",
    "- `internal`: si la llamada fue interna (entre los operadores de un cliente o clienta)\n",
    "- `operator_id`: identificador del operador\n",
    "- `is_missed_call`: si fue una llamada perdida\n",
    "- `calls_count`: número de llamadas\n",
    "- `call_duration`: duración de la llamada (sin incluir el tiempo de espera)\n",
    "- `total_call_duration`: duración de la llamada (incluido el tiempo de espera)\n",
    "\n",
    " \n",
    "\n",
    "`telecom_clients_us.csv` \n",
    "\n",
    "- `user_id`: ID de usuario/a\n",
    "- `tariff_plan`: tarifa actual de la clientela\n",
    "- `date_start`: fecha de registro de la clientela"
   ]
  },
  {
   "cell_type": "code",
   "execution_count": null,
   "metadata": {},
   "outputs": [],
   "source": []
  },
  {
   "cell_type": "code",
   "execution_count": 4,
   "metadata": {
    "trusted": false
   },
   "outputs": [],
   "source": [
    "import pandas as pd \n",
    "import matplotlib.pyplot as plt\n",
    "import seaborn as sns\n",
    "from scipy.stats import ttest_ind\n",
    "from scipy.stats import pearsonr\n",
    "import numpy as np"
   ]
  },
  {
   "cell_type": "code",
   "execution_count": 5,
   "metadata": {
    "trusted": false
   },
   "outputs": [],
   "source": [
    "df = pd.read_csv('telecom_dataset_us.csv')\n",
    "df_clientes = pd.read_csv('telecom_clients_us.csv')   "
   ]
  },
  {
   "cell_type": "code",
   "execution_count": 6,
   "metadata": {
    "trusted": false
   },
   "outputs": [],
   "source": [
    "def clean_data(data):\n",
    "    print()\n",
    "    print(data.info())\n",
    "    print()\n",
    "    print(data.head())\n",
    "    print()\n",
    "    print(data.describe())\n",
    "    print('missing values')\n",
    "    print(data.isna().sum())\n",
    "    print()\n",
    "    print('duplicates', data.duplicated().sum())\n",
    "    print()"
   ]
  },
  {
   "cell_type": "code",
   "execution_count": 7,
   "metadata": {
    "trusted": false
   },
   "outputs": [],
   "source": [
    "df['date'] = pd.to_datetime(df['date'])\n"
   ]
  },
  {
   "cell_type": "code",
   "execution_count": 8,
   "metadata": {
    "trusted": false
   },
   "outputs": [
    {
     "name": "stdout",
     "output_type": "stream",
     "text": [
      "\n",
      "<class 'pandas.core.frame.DataFrame'>\n",
      "RangeIndex: 53902 entries, 0 to 53901\n",
      "Data columns (total 9 columns):\n",
      " #   Column               Non-Null Count  Dtype                    \n",
      "---  ------               --------------  -----                    \n",
      " 0   user_id              53902 non-null  int64                    \n",
      " 1   date                 53902 non-null  datetime64[ns, UTC+03:00]\n",
      " 2   direction            53902 non-null  object                   \n",
      " 3   internal             53785 non-null  object                   \n",
      " 4   operator_id          45730 non-null  float64                  \n",
      " 5   is_missed_call       53902 non-null  bool                     \n",
      " 6   calls_count          53902 non-null  int64                    \n",
      " 7   call_duration        53902 non-null  int64                    \n",
      " 8   total_call_duration  53902 non-null  int64                    \n",
      "dtypes: bool(1), datetime64[ns, UTC+03:00](1), float64(1), int64(4), object(2)\n",
      "memory usage: 3.3+ MB\n",
      "None\n",
      "\n",
      "   user_id                      date direction internal  operator_id  \\\n",
      "0   166377 2019-08-04 00:00:00+03:00        in    False          NaN   \n",
      "1   166377 2019-08-05 00:00:00+03:00       out     True     880022.0   \n",
      "2   166377 2019-08-05 00:00:00+03:00       out     True     880020.0   \n",
      "3   166377 2019-08-05 00:00:00+03:00       out     True     880020.0   \n",
      "4   166377 2019-08-05 00:00:00+03:00       out    False     880022.0   \n",
      "\n",
      "   is_missed_call  calls_count  call_duration  total_call_duration  \n",
      "0            True            2              0                    4  \n",
      "1            True            3              0                    5  \n",
      "2            True            1              0                    1  \n",
      "3           False            1             10                   18  \n",
      "4            True            3              0                   25  \n",
      "\n",
      "             user_id    operator_id   calls_count  call_duration  \\\n",
      "count   53902.000000   45730.000000  53902.000000   53902.000000   \n",
      "mean   167295.344477  916535.993002     16.451245     866.684427   \n",
      "std       598.883775   21254.123136     62.917170    3731.791202   \n",
      "min    166377.000000  879896.000000      1.000000       0.000000   \n",
      "25%    166782.000000  900788.000000      1.000000       0.000000   \n",
      "50%    167162.000000  913938.000000      4.000000      38.000000   \n",
      "75%    167819.000000  937708.000000     12.000000     572.000000   \n",
      "max    168606.000000  973286.000000   4817.000000  144395.000000   \n",
      "\n",
      "       total_call_duration  \n",
      "count         53902.000000  \n",
      "mean           1157.133297  \n",
      "std            4403.468763  \n",
      "min               0.000000  \n",
      "25%              47.000000  \n",
      "50%             210.000000  \n",
      "75%             902.000000  \n",
      "max          166155.000000  \n",
      "missing values\n",
      "user_id                   0\n",
      "date                      0\n",
      "direction                 0\n",
      "internal                117\n",
      "operator_id            8172\n",
      "is_missed_call            0\n",
      "calls_count               0\n",
      "call_duration             0\n",
      "total_call_duration       0\n",
      "dtype: int64\n",
      "\n",
      "duplicates 4900\n",
      "\n"
     ]
    }
   ],
   "source": [
    "clean_data(df)"
   ]
  },
  {
   "cell_type": "code",
   "execution_count": 9,
   "metadata": {
    "trusted": false
   },
   "outputs": [],
   "source": [
    "df.drop_duplicates(inplace=True)\n"
   ]
  },
  {
   "cell_type": "code",
   "execution_count": 10,
   "metadata": {
    "trusted": false
   },
   "outputs": [],
   "source": [
    "df['call_duration_minutes'] = df['call_duration'] / 60\n",
    "df['total_call_duration_minutes'] = df['total_call_duration'] / 60"
   ]
  },
  {
   "cell_type": "code",
   "execution_count": 11,
   "metadata": {
    "trusted": false
   },
   "outputs": [
    {
     "name": "stdout",
     "output_type": "stream",
     "text": [
      "\n",
      "<class 'pandas.core.frame.DataFrame'>\n",
      "RangeIndex: 732 entries, 0 to 731\n",
      "Data columns (total 3 columns):\n",
      " #   Column       Non-Null Count  Dtype \n",
      "---  ------       --------------  ----- \n",
      " 0   user_id      732 non-null    int64 \n",
      " 1   tariff_plan  732 non-null    object\n",
      " 2   date_start   732 non-null    object\n",
      "dtypes: int64(1), object(2)\n",
      "memory usage: 17.3+ KB\n",
      "None\n",
      "\n",
      "   user_id tariff_plan  date_start\n",
      "0   166713           A  2019-08-15\n",
      "1   166901           A  2019-08-23\n",
      "2   168527           A  2019-10-29\n",
      "3   167097           A  2019-09-01\n",
      "4   168193           A  2019-10-16\n",
      "\n",
      "             user_id\n",
      "count     732.000000\n",
      "mean   167431.927596\n",
      "std       633.810383\n",
      "min    166373.000000\n",
      "25%    166900.750000\n",
      "50%    167432.000000\n",
      "75%    167973.000000\n",
      "max    168606.000000\n",
      "missing values\n",
      "user_id        0\n",
      "tariff_plan    0\n",
      "date_start     0\n",
      "dtype: int64\n",
      "\n",
      "duplicates 0\n",
      "\n"
     ]
    }
   ],
   "source": [
    "clean_data(df_clientes)"
   ]
  },
  {
   "cell_type": "code",
   "execution_count": null,
   "metadata": {
    "trusted": false
   },
   "outputs": [],
   "source": []
  },
  {
   "cell_type": "code",
   "execution_count": 12,
   "metadata": {
    "trusted": false
   },
   "outputs": [],
   "source": [
    "mask = (df['direction'] == 'in') & (df['is_missed_call'] == True)\n",
    "df_missed_in = df[mask]\n",
    "\n",
    "operadores_ineficaces = df_missed_in.groupby('operator_id', as_index=False).agg(\n",
    "    total_llamadas_perdidas=('calls_count', 'sum'),\n",
    "    total_duracion_perdida=('call_duration', 'sum') \n",
    ")"
   ]
  },
  {
   "cell_type": "code",
   "execution_count": 13,
   "metadata": {
    "trusted": false
   },
   "outputs": [],
   "source": [
    "total_in = df[df['direction'] == 'in'].groupby('operator_id')['calls_count'].sum().reset_index(name='total_llamadas_in')\n",
    "\n",
    "operadores_ineficaces = pd.merge(operadores_ineficaces, total_in, on='operator_id', how='left')\n",
    "\n",
    "operadores_ineficaces['tasa_perdidas'] = operadores_ineficaces['total_llamadas_perdidas'] / operadores_ineficaces['total_llamadas_in']\n",
    "operadores_ineficaces['tasa_perdidas'] = operadores_ineficaces['tasa_perdidas'].round(2)"
   ]
  },
  {
   "cell_type": "code",
   "execution_count": 14,
   "metadata": {
    "trusted": false
   },
   "outputs": [],
   "source": [
    "operadores_ineficaces = operadores_ineficaces.sort_values(by='total_llamadas_perdidas', ascending=False)\n",
    "\n",
    "umbral = operadores_ineficaces['total_llamadas_perdidas'].quantile(0.95)\n",
    "operadores_problematicos = operadores_ineficaces[operadores_ineficaces['total_llamadas_perdidas'] >= umbral]"
   ]
  },
  {
   "cell_type": "markdown",
   "metadata": {},
   "source": [
    "El percentil 95% representa el valor por debajo del cual se encuentra el 95% de los datos. Los operadores que están por encima de este umbral pertenecen al 5% superior en llamadas perdidas, lo que los hace candidatos a ser considerados \"extremos\"."
   ]
  },
  {
   "cell_type": "code",
   "execution_count": 15,
   "metadata": {
    "trusted": false
   },
   "outputs": [
    {
     "data": {
      "text/html": [
       "<div>\n",
       "<style scoped>\n",
       "    .dataframe tbody tr th:only-of-type {\n",
       "        vertical-align: middle;\n",
       "    }\n",
       "\n",
       "    .dataframe tbody tr th {\n",
       "        vertical-align: top;\n",
       "    }\n",
       "\n",
       "    .dataframe thead th {\n",
       "        text-align: right;\n",
       "    }\n",
       "</style>\n",
       "<table border=\"1\" class=\"dataframe\">\n",
       "  <thead>\n",
       "    <tr style=\"text-align: right;\">\n",
       "      <th></th>\n",
       "      <th>operator_id</th>\n",
       "      <th>total_llamadas_perdidas</th>\n",
       "      <th>total_duracion_perdida</th>\n",
       "      <th>total_llamadas_in</th>\n",
       "      <th>tasa_perdidas</th>\n",
       "    </tr>\n",
       "  </thead>\n",
       "  <tbody>\n",
       "    <tr>\n",
       "      <th>98</th>\n",
       "      <td>913942.0</td>\n",
       "      <td>52</td>\n",
       "      <td>25</td>\n",
       "      <td>2467</td>\n",
       "      <td>0.02</td>\n",
       "    </tr>\n",
       "    <tr>\n",
       "      <th>196</th>\n",
       "      <td>940588.0</td>\n",
       "      <td>30</td>\n",
       "      <td>4358</td>\n",
       "      <td>2127</td>\n",
       "      <td>0.01</td>\n",
       "    </tr>\n",
       "    <tr>\n",
       "      <th>210</th>\n",
       "      <td>944226.0</td>\n",
       "      <td>30</td>\n",
       "      <td>66</td>\n",
       "      <td>180</td>\n",
       "      <td>0.17</td>\n",
       "    </tr>\n",
       "    <tr>\n",
       "      <th>6</th>\n",
       "      <td>885890.0</td>\n",
       "      <td>26</td>\n",
       "      <td>5</td>\n",
       "      <td>1244</td>\n",
       "      <td>0.02</td>\n",
       "    </tr>\n",
       "    <tr>\n",
       "      <th>206</th>\n",
       "      <td>944216.0</td>\n",
       "      <td>24</td>\n",
       "      <td>194</td>\n",
       "      <td>235</td>\n",
       "      <td>0.10</td>\n",
       "    </tr>\n",
       "    <tr>\n",
       "      <th>179</th>\n",
       "      <td>937956.0</td>\n",
       "      <td>24</td>\n",
       "      <td>69</td>\n",
       "      <td>773</td>\n",
       "      <td>0.03</td>\n",
       "    </tr>\n",
       "    <tr>\n",
       "      <th>222</th>\n",
       "      <td>951508.0</td>\n",
       "      <td>21</td>\n",
       "      <td>1456</td>\n",
       "      <td>336</td>\n",
       "      <td>0.06</td>\n",
       "    </tr>\n",
       "    <tr>\n",
       "      <th>5</th>\n",
       "      <td>885876.0</td>\n",
       "      <td>20</td>\n",
       "      <td>5</td>\n",
       "      <td>992</td>\n",
       "      <td>0.02</td>\n",
       "    </tr>\n",
       "    <tr>\n",
       "      <th>208</th>\n",
       "      <td>944220.0</td>\n",
       "      <td>18</td>\n",
       "      <td>1</td>\n",
       "      <td>265</td>\n",
       "      <td>0.07</td>\n",
       "    </tr>\n",
       "    <tr>\n",
       "      <th>209</th>\n",
       "      <td>944222.0</td>\n",
       "      <td>17</td>\n",
       "      <td>30</td>\n",
       "      <td>185</td>\n",
       "      <td>0.09</td>\n",
       "    </tr>\n",
       "    <tr>\n",
       "      <th>201</th>\n",
       "      <td>940630.0</td>\n",
       "      <td>17</td>\n",
       "      <td>2929</td>\n",
       "      <td>1985</td>\n",
       "      <td>0.01</td>\n",
       "    </tr>\n",
       "    <tr>\n",
       "      <th>199</th>\n",
       "      <td>940622.0</td>\n",
       "      <td>16</td>\n",
       "      <td>2415</td>\n",
       "      <td>677</td>\n",
       "      <td>0.02</td>\n",
       "    </tr>\n",
       "  </tbody>\n",
       "</table>\n",
       "</div>"
      ],
      "text/plain": [
       "     operator_id  total_llamadas_perdidas  total_duracion_perdida  \\\n",
       "98      913942.0                       52                      25   \n",
       "196     940588.0                       30                    4358   \n",
       "210     944226.0                       30                      66   \n",
       "6       885890.0                       26                       5   \n",
       "206     944216.0                       24                     194   \n",
       "179     937956.0                       24                      69   \n",
       "222     951508.0                       21                    1456   \n",
       "5       885876.0                       20                       5   \n",
       "208     944220.0                       18                       1   \n",
       "209     944222.0                       17                      30   \n",
       "201     940630.0                       17                    2929   \n",
       "199     940622.0                       16                    2415   \n",
       "\n",
       "     total_llamadas_in  tasa_perdidas  \n",
       "98                2467           0.02  \n",
       "196               2127           0.01  \n",
       "210                180           0.17  \n",
       "6                 1244           0.02  \n",
       "206                235           0.10  \n",
       "179                773           0.03  \n",
       "222                336           0.06  \n",
       "5                  992           0.02  \n",
       "208                265           0.07  \n",
       "209                185           0.09  \n",
       "201               1985           0.01  \n",
       "199                677           0.02  "
      ]
     },
     "execution_count": 15,
     "metadata": {},
     "output_type": "execute_result"
    }
   ],
   "source": [
    "operadores_problematicos"
   ]
  },
  {
   "cell_type": "code",
   "execution_count": null,
   "metadata": {
    "trusted": false
   },
   "outputs": [],
   "source": []
  },
  {
   "cell_type": "code",
   "execution_count": 16,
   "metadata": {
    "trusted": false
   },
   "outputs": [
    {
     "data": {
      "image/png": "[encoded data removed]",
      "text/plain": [
       "<Figure size 1000x600 with 1 Axes>"
      ]
     },
     "metadata": {},
     "output_type": "display_data"
    }
   ],
   "source": [
    "umbral = operadores_ineficaces['total_llamadas_perdidas'].quantile(0.90)\n",
    "operadores_ineficaces['grupo'] = np.where(\n",
    "    operadores_ineficaces['total_llamadas_perdidas'] >= umbral, \n",
    "    'Ineficientes', \n",
    "    'Eficientes'\n",
    ")\n",
    "\n",
    "sns.set(style=\"whitegrid\")\n",
    "plt.figure(figsize=(10, 6))\n",
    "\n",
    "sns.histplot(\n",
    "    data=operadores_ineficaces,\n",
    "    x='tasa_perdidas',\n",
    "    hue='grupo',\n",
    "    bins=20,\n",
    "    kde=True,\n",
    "    palette={'Ineficientes': 'red', 'Eficientes': 'green'}\n",
    ")\n",
    "\n",
    "plt.title('Distribución de Tasas de Llamadas Perdidas por Grupo', fontsize=14)\n",
    "plt.xlabel('Tasa de Llamadas Perdidas', fontsize=12)\n",
    "plt.ylabel('Cantidad de Operadores', fontsize=12)\n",
    "\n",
    "plt.show()\n"
   ]
  },
  {
   "cell_type": "markdown",
   "metadata": {},
   "source": [
    "en este histograma podemos visualizar la cantidad de de operadores con tasas de llamadas perdidas los cuales los verdes nos marcan operadores eficiente y los rojo operadores que estarian muy por debajo de las metricas  aproximadamente entre 18"
   ]
  },
  {
   "cell_type": "code",
   "execution_count": null,
   "metadata": {},
   "outputs": [],
   "source": []
  },
  {
   "cell_type": "code",
   "execution_count": 17,
   "metadata": {
    "trusted": false
   },
   "outputs": [
    {
     "name": "stderr",
     "output_type": "stream",
     "text": [
      "C:\\Users\\Criz1\\AppData\\Local\\Temp\\ipykernel_18456\\2123554564.py:2: FutureWarning: \n",
      "\n",
      "Passing `palette` without assigning `hue` is deprecated and will be removed in v0.14.0. Assign the `x` variable to `hue` and set `legend=False` for the same effect.\n",
      "\n",
      "  sns.boxplot(\n"
     ]
    },
    {
     "data": {
      "image/png": "[encoded data removed]",
      "text/plain": [
       "<Figure size 800x500 with 1 Axes>"
      ]
     },
     "metadata": {},
     "output_type": "display_data"
    }
   ],
   "source": [
    "plt.figure(figsize=(8, 5))\n",
    "sns.boxplot(\n",
    "    data=operadores_ineficaces,\n",
    "    x='grupo',\n",
    "    y='total_llamadas_perdidas',\n",
    "    palette={'Ineficientes': 'salmon', 'Eficientes': 'lightgreen'}\n",
    ")\n",
    "\n",
    "plt.title('Distribución de Llamadas Perdidas por Grupo')\n",
    "plt.xlabel('Grupo de Operadores')\n",
    "plt.ylabel('Cantidad de Llamadas Perdidas')\n",
    "plt.grid(axis='y', linestyle='--', alpha=0.7)\n",
    "\n",
    "plt.show()"
   ]
  },
  {
   "cell_type": "markdown",
   "metadata": {},
   "source": [
    "En la siguiente boxplot visualizamos  la distribucion de llamadas perdidas entre usuarios eficientes y no eficientes viendo alrededor de cuantas son las llamadas que perdieron los usuarios "
   ]
  },
  {
   "cell_type": "code",
   "execution_count": 18,
   "metadata": {
    "trusted": false
   },
   "outputs": [],
   "source": [
    "df_in = df[df[\"direction\"] == \"in\"].copy()\n",
    "df_in[\"wait_time\"] = df_in[\"total_call_duration\"] - df_in[\"call_duration\"]\n"
   ]
  },
  {
   "cell_type": "code",
   "execution_count": 19,
   "metadata": {
    "trusted": false
   },
   "outputs": [],
   "source": [
    "operadores_metrics = df_in.groupby(\"operator_id\").agg(\n",
    "    total_llamadas_in=(\"calls_count\", \"sum\"),\n",
    "    total_perdidas=(\"is_missed_call\", \"sum\"),\n",
    "    avg_wait_time=(\"wait_time\", \"mean\")\n",
    ").reset_index()\n",
    "\n",
    "operadores_metrics[\"tasa_perdidas\"] = operadores_metrics[\"total_perdidas\"] / operadores_metrics[\"total_llamadas_in\"]\n"
   ]
  },
  {
   "cell_type": "code",
   "execution_count": 20,
   "metadata": {
    "trusted": false
   },
   "outputs": [
    {
     "data": {
      "text/html": [
       "<div>\n",
       "<style scoped>\n",
       "    .dataframe tbody tr th:only-of-type {\n",
       "        vertical-align: middle;\n",
       "    }\n",
       "\n",
       "    .dataframe tbody tr th {\n",
       "        vertical-align: top;\n",
       "    }\n",
       "\n",
       "    .dataframe thead th {\n",
       "        text-align: right;\n",
       "    }\n",
       "</style>\n",
       "<table border=\"1\" class=\"dataframe\">\n",
       "  <thead>\n",
       "    <tr style=\"text-align: right;\">\n",
       "      <th></th>\n",
       "      <th>user_id</th>\n",
       "      <th>date</th>\n",
       "      <th>direction</th>\n",
       "      <th>internal</th>\n",
       "      <th>operator_id</th>\n",
       "      <th>is_missed_call</th>\n",
       "      <th>calls_count</th>\n",
       "      <th>call_duration</th>\n",
       "      <th>total_call_duration</th>\n",
       "      <th>call_duration_minutes</th>\n",
       "      <th>total_call_duration_minutes</th>\n",
       "      <th>wait_time</th>\n",
       "    </tr>\n",
       "  </thead>\n",
       "  <tbody>\n",
       "    <tr>\n",
       "      <th>0</th>\n",
       "      <td>166377</td>\n",
       "      <td>2019-08-04 00:00:00+03:00</td>\n",
       "      <td>in</td>\n",
       "      <td>False</td>\n",
       "      <td>NaN</td>\n",
       "      <td>True</td>\n",
       "      <td>2</td>\n",
       "      <td>0</td>\n",
       "      <td>4</td>\n",
       "      <td>0.000000</td>\n",
       "      <td>0.066667</td>\n",
       "      <td>4</td>\n",
       "    </tr>\n",
       "    <tr>\n",
       "      <th>7</th>\n",
       "      <td>166377</td>\n",
       "      <td>2019-08-05 00:00:00+03:00</td>\n",
       "      <td>in</td>\n",
       "      <td>False</td>\n",
       "      <td>NaN</td>\n",
       "      <td>True</td>\n",
       "      <td>6</td>\n",
       "      <td>0</td>\n",
       "      <td>35</td>\n",
       "      <td>0.000000</td>\n",
       "      <td>0.583333</td>\n",
       "      <td>35</td>\n",
       "    </tr>\n",
       "    <tr>\n",
       "      <th>9</th>\n",
       "      <td>166377</td>\n",
       "      <td>2019-08-06 00:00:00+03:00</td>\n",
       "      <td>in</td>\n",
       "      <td>False</td>\n",
       "      <td>NaN</td>\n",
       "      <td>True</td>\n",
       "      <td>4</td>\n",
       "      <td>0</td>\n",
       "      <td>62</td>\n",
       "      <td>0.000000</td>\n",
       "      <td>1.033333</td>\n",
       "      <td>62</td>\n",
       "    </tr>\n",
       "    <tr>\n",
       "      <th>17</th>\n",
       "      <td>166377</td>\n",
       "      <td>2019-08-07 00:00:00+03:00</td>\n",
       "      <td>in</td>\n",
       "      <td>False</td>\n",
       "      <td>NaN</td>\n",
       "      <td>True</td>\n",
       "      <td>2</td>\n",
       "      <td>0</td>\n",
       "      <td>24</td>\n",
       "      <td>0.000000</td>\n",
       "      <td>0.400000</td>\n",
       "      <td>24</td>\n",
       "    </tr>\n",
       "    <tr>\n",
       "      <th>26</th>\n",
       "      <td>166377</td>\n",
       "      <td>2019-08-12 00:00:00+03:00</td>\n",
       "      <td>in</td>\n",
       "      <td>False</td>\n",
       "      <td>880028.0</td>\n",
       "      <td>False</td>\n",
       "      <td>1</td>\n",
       "      <td>407</td>\n",
       "      <td>411</td>\n",
       "      <td>6.783333</td>\n",
       "      <td>6.850000</td>\n",
       "      <td>4</td>\n",
       "    </tr>\n",
       "    <tr>\n",
       "      <th>...</th>\n",
       "      <td>...</td>\n",
       "      <td>...</td>\n",
       "      <td>...</td>\n",
       "      <td>...</td>\n",
       "      <td>...</td>\n",
       "      <td>...</td>\n",
       "      <td>...</td>\n",
       "      <td>...</td>\n",
       "      <td>...</td>\n",
       "      <td>...</td>\n",
       "      <td>...</td>\n",
       "      <td>...</td>\n",
       "    </tr>\n",
       "    <tr>\n",
       "      <th>53889</th>\n",
       "      <td>168603</td>\n",
       "      <td>2019-11-28 00:00:00+03:00</td>\n",
       "      <td>in</td>\n",
       "      <td>False</td>\n",
       "      <td>NaN</td>\n",
       "      <td>True</td>\n",
       "      <td>1</td>\n",
       "      <td>0</td>\n",
       "      <td>30</td>\n",
       "      <td>0.000000</td>\n",
       "      <td>0.500000</td>\n",
       "      <td>30</td>\n",
       "    </tr>\n",
       "    <tr>\n",
       "      <th>53891</th>\n",
       "      <td>168606</td>\n",
       "      <td>2019-11-08 00:00:00+03:00</td>\n",
       "      <td>in</td>\n",
       "      <td>False</td>\n",
       "      <td>957922.0</td>\n",
       "      <td>True</td>\n",
       "      <td>1</td>\n",
       "      <td>0</td>\n",
       "      <td>7</td>\n",
       "      <td>0.000000</td>\n",
       "      <td>0.116667</td>\n",
       "      <td>7</td>\n",
       "    </tr>\n",
       "    <tr>\n",
       "      <th>53893</th>\n",
       "      <td>168606</td>\n",
       "      <td>2019-11-08 00:00:00+03:00</td>\n",
       "      <td>in</td>\n",
       "      <td>False</td>\n",
       "      <td>NaN</td>\n",
       "      <td>True</td>\n",
       "      <td>6</td>\n",
       "      <td>0</td>\n",
       "      <td>121</td>\n",
       "      <td>0.000000</td>\n",
       "      <td>2.016667</td>\n",
       "      <td>121</td>\n",
       "    </tr>\n",
       "    <tr>\n",
       "      <th>53894</th>\n",
       "      <td>168606</td>\n",
       "      <td>2019-11-08 00:00:00+03:00</td>\n",
       "      <td>in</td>\n",
       "      <td>False</td>\n",
       "      <td>957922.0</td>\n",
       "      <td>False</td>\n",
       "      <td>2</td>\n",
       "      <td>686</td>\n",
       "      <td>705</td>\n",
       "      <td>11.433333</td>\n",
       "      <td>11.750000</td>\n",
       "      <td>19</td>\n",
       "    </tr>\n",
       "    <tr>\n",
       "      <th>53901</th>\n",
       "      <td>168606</td>\n",
       "      <td>2019-11-19 00:00:00+03:00</td>\n",
       "      <td>in</td>\n",
       "      <td>False</td>\n",
       "      <td>NaN</td>\n",
       "      <td>True</td>\n",
       "      <td>2</td>\n",
       "      <td>0</td>\n",
       "      <td>64</td>\n",
       "      <td>0.000000</td>\n",
       "      <td>1.066667</td>\n",
       "      <td>64</td>\n",
       "    </tr>\n",
       "  </tbody>\n",
       "</table>\n",
       "<p>20003 rows × 12 columns</p>\n",
       "</div>"
      ],
      "text/plain": [
       "       user_id                      date direction internal  operator_id  \\\n",
       "0       166377 2019-08-04 00:00:00+03:00        in    False          NaN   \n",
       "7       166377 2019-08-05 00:00:00+03:00        in    False          NaN   \n",
       "9       166377 2019-08-06 00:00:00+03:00        in    False          NaN   \n",
       "17      166377 2019-08-07 00:00:00+03:00        in    False          NaN   \n",
       "26      166377 2019-08-12 00:00:00+03:00        in    False     880028.0   \n",
       "...        ...                       ...       ...      ...          ...   \n",
       "53889   168603 2019-11-28 00:00:00+03:00        in    False          NaN   \n",
       "53891   168606 2019-11-08 00:00:00+03:00        in    False     957922.0   \n",
       "53893   168606 2019-11-08 00:00:00+03:00        in    False          NaN   \n",
       "53894   168606 2019-11-08 00:00:00+03:00        in    False     957922.0   \n",
       "53901   168606 2019-11-19 00:00:00+03:00        in    False          NaN   \n",
       "\n",
       "       is_missed_call  calls_count  call_duration  total_call_duration  \\\n",
       "0                True            2              0                    4   \n",
       "7                True            6              0                   35   \n",
       "9                True            4              0                   62   \n",
       "17               True            2              0                   24   \n",
       "26              False            1            407                  411   \n",
       "...               ...          ...            ...                  ...   \n",
       "53889            True            1              0                   30   \n",
       "53891            True            1              0                    7   \n",
       "53893            True            6              0                  121   \n",
       "53894           False            2            686                  705   \n",
       "53901            True            2              0                   64   \n",
       "\n",
       "       call_duration_minutes  total_call_duration_minutes  wait_time  \n",
       "0                   0.000000                     0.066667          4  \n",
       "7                   0.000000                     0.583333         35  \n",
       "9                   0.000000                     1.033333         62  \n",
       "17                  0.000000                     0.400000         24  \n",
       "26                  6.783333                     6.850000          4  \n",
       "...                      ...                          ...        ...  \n",
       "53889               0.000000                     0.500000         30  \n",
       "53891               0.000000                     0.116667          7  \n",
       "53893               0.000000                     2.016667        121  \n",
       "53894              11.433333                    11.750000         19  \n",
       "53901               0.000000                     1.066667         64  \n",
       "\n",
       "[20003 rows x 12 columns]"
      ]
     },
     "execution_count": 20,
     "metadata": {},
     "output_type": "execute_result"
    }
   ],
   "source": [
    "df_in"
   ]
  },
  {
   "cell_type": "code",
   "execution_count": 21,
   "metadata": {
    "trusted": false
   },
   "outputs": [
    {
     "data": {
      "text/html": [
       "<div>\n",
       "<style scoped>\n",
       "    .dataframe tbody tr th:only-of-type {\n",
       "        vertical-align: middle;\n",
       "    }\n",
       "\n",
       "    .dataframe tbody tr th {\n",
       "        vertical-align: top;\n",
       "    }\n",
       "\n",
       "    .dataframe thead th {\n",
       "        text-align: right;\n",
       "    }\n",
       "</style>\n",
       "<table border=\"1\" class=\"dataframe\">\n",
       "  <thead>\n",
       "    <tr style=\"text-align: right;\">\n",
       "      <th></th>\n",
       "      <th>operator_id</th>\n",
       "      <th>total_llamadas_perdidas</th>\n",
       "      <th>total_duracion_perdida</th>\n",
       "      <th>total_llamadas_in</th>\n",
       "      <th>tasa_perdidas</th>\n",
       "      <th>grupo</th>\n",
       "    </tr>\n",
       "  </thead>\n",
       "  <tbody>\n",
       "    <tr>\n",
       "      <th>98</th>\n",
       "      <td>913942.0</td>\n",
       "      <td>52</td>\n",
       "      <td>25</td>\n",
       "      <td>2467</td>\n",
       "      <td>0.02</td>\n",
       "      <td>Ineficientes</td>\n",
       "    </tr>\n",
       "    <tr>\n",
       "      <th>207</th>\n",
       "      <td>944218.0</td>\n",
       "      <td>15</td>\n",
       "      <td>60</td>\n",
       "      <td>245</td>\n",
       "      <td>0.06</td>\n",
       "      <td>Ineficientes</td>\n",
       "    </tr>\n",
       "    <tr>\n",
       "      <th>196</th>\n",
       "      <td>940588.0</td>\n",
       "      <td>30</td>\n",
       "      <td>4358</td>\n",
       "      <td>2127</td>\n",
       "      <td>0.01</td>\n",
       "      <td>Ineficientes</td>\n",
       "    </tr>\n",
       "    <tr>\n",
       "      <th>138</th>\n",
       "      <td>925922.0</td>\n",
       "      <td>10</td>\n",
       "      <td>4</td>\n",
       "      <td>418</td>\n",
       "      <td>0.02</td>\n",
       "      <td>Ineficientes</td>\n",
       "    </tr>\n",
       "    <tr>\n",
       "      <th>22</th>\n",
       "      <td>893804.0</td>\n",
       "      <td>10</td>\n",
       "      <td>3</td>\n",
       "      <td>2433</td>\n",
       "      <td>0.00</td>\n",
       "      <td>Ineficientes</td>\n",
       "    </tr>\n",
       "    <tr>\n",
       "      <th>...</th>\n",
       "      <td>...</td>\n",
       "      <td>...</td>\n",
       "      <td>...</td>\n",
       "      <td>...</td>\n",
       "      <td>...</td>\n",
       "      <td>...</td>\n",
       "    </tr>\n",
       "    <tr>\n",
       "      <th>18</th>\n",
       "      <td>891410.0</td>\n",
       "      <td>2</td>\n",
       "      <td>1</td>\n",
       "      <td>660</td>\n",
       "      <td>0.00</td>\n",
       "      <td>Eficientes</td>\n",
       "    </tr>\n",
       "    <tr>\n",
       "      <th>10</th>\n",
       "      <td>888534.0</td>\n",
       "      <td>2</td>\n",
       "      <td>133</td>\n",
       "      <td>61</td>\n",
       "      <td>0.03</td>\n",
       "      <td>Eficientes</td>\n",
       "    </tr>\n",
       "    <tr>\n",
       "      <th>9</th>\n",
       "      <td>888532.0</td>\n",
       "      <td>2</td>\n",
       "      <td>0</td>\n",
       "      <td>12</td>\n",
       "      <td>0.17</td>\n",
       "      <td>Eficientes</td>\n",
       "    </tr>\n",
       "    <tr>\n",
       "      <th>121</th>\n",
       "      <td>920852.0</td>\n",
       "      <td>2</td>\n",
       "      <td>0</td>\n",
       "      <td>192</td>\n",
       "      <td>0.01</td>\n",
       "      <td>Eficientes</td>\n",
       "    </tr>\n",
       "    <tr>\n",
       "      <th>238</th>\n",
       "      <td>969272.0</td>\n",
       "      <td>1</td>\n",
       "      <td>1</td>\n",
       "      <td>154</td>\n",
       "      <td>0.01</td>\n",
       "      <td>Eficientes</td>\n",
       "    </tr>\n",
       "  </tbody>\n",
       "</table>\n",
       "<p>239 rows × 6 columns</p>\n",
       "</div>"
      ],
      "text/plain": [
       "     operator_id  total_llamadas_perdidas  total_duracion_perdida  \\\n",
       "98      913942.0                       52                      25   \n",
       "207     944218.0                       15                      60   \n",
       "196     940588.0                       30                    4358   \n",
       "138     925922.0                       10                       4   \n",
       "22      893804.0                       10                       3   \n",
       "..           ...                      ...                     ...   \n",
       "18      891410.0                        2                       1   \n",
       "10      888534.0                        2                     133   \n",
       "9       888532.0                        2                       0   \n",
       "121     920852.0                        2                       0   \n",
       "238     969272.0                        1                       1   \n",
       "\n",
       "     total_llamadas_in  tasa_perdidas         grupo  \n",
       "98                2467           0.02  Ineficientes  \n",
       "207                245           0.06  Ineficientes  \n",
       "196               2127           0.01  Ineficientes  \n",
       "138                418           0.02  Ineficientes  \n",
       "22                2433           0.00  Ineficientes  \n",
       "..                 ...            ...           ...  \n",
       "18                 660           0.00    Eficientes  \n",
       "10                  61           0.03    Eficientes  \n",
       "9                   12           0.17    Eficientes  \n",
       "121                192           0.01    Eficientes  \n",
       "238                154           0.01    Eficientes  \n",
       "\n",
       "[239 rows x 6 columns]"
      ]
     },
     "execution_count": 21,
     "metadata": {},
     "output_type": "execute_result"
    }
   ],
   "source": [
    "operadores_ineficaces.sort_values(by= 'grupo', ascending= False)"
   ]
  },
  {
   "cell_type": "code",
   "execution_count": 22,
   "metadata": {
    "trusted": false
   },
   "outputs": [],
   "source": [
    "umbral_tasa = operadores_metrics[\"tasa_perdidas\"].quantile(0.90)\n",
    "umbral_wait = operadores_metrics[\"avg_wait_time\"].quantile(0.90)\n",
    "\n",
    "operadores_ineficaces = operadores_metrics[\n",
    "    (operadores_metrics[\"tasa_perdidas\"] >= umbral_tasa) &\n",
    "    (operadores_metrics[\"avg_wait_time\"] >= umbral_wait) &\n",
    "    (operadores_metrics[\"total_llamadas_in\"] > 50)  \n",
    "]\n"
   ]
  },
  {
   "cell_type": "code",
   "execution_count": 23,
   "metadata": {
    "trusted": false
   },
   "outputs": [
    {
     "data": {
      "image/png": "[encoded data removed]",
      "text/plain": [
       "<Figure size 1000x600 with 1 Axes>"
      ]
     },
     "metadata": {},
     "output_type": "display_data"
    }
   ],
   "source": [
    "\n",
    "\n",
    "plt.figure(figsize=(10, 6))\n",
    "\n",
    "sns.scatterplot(\n",
    "    data=operadores_metrics,\n",
    "    x=\"avg_wait_time\",\n",
    "    y=\"tasa_perdidas\",\n",
    "    hue=\"total_llamadas_in\",\n",
    "    size=\"total_llamadas_in\",\n",
    "    palette=\"viridis\",\n",
    "    alpha=0.7\n",
    ")\n",
    "plt.axhline(umbral_tasa, color=\"red\", linestyle=\"--\", label=\"Percentil 90% (Tasa)\")\n",
    "plt.axvline(umbral_wait, color=\"orange\", linestyle=\"--\", label=\"Percentil 90% (Tiempo)\")\n",
    "\n",
    "if not operadores_ineficaces.empty:\n",
    "    plt.scatter(\n",
    "        operadores_ineficaces[\"avg_wait_time\"],\n",
    "        operadores_ineficaces[\"tasa_perdidas\"],\n",
    "        color=\"black\",\n",
    "        marker=\"X\",\n",
    "        s=100,\n",
    "        label=\"Operadores Ineficaces\"\n",
    "    )\n",
    "\n",
    "plt.title(\"Relación entre Tasa de Pérdidas y Tiempo de Espera\")\n",
    "plt.xlabel(\"Tiempo de Espera Promedio (segundos)\")\n",
    "plt.ylabel(\"Tasa de Llamadas Perdidas\")\n",
    "plt.legend()\n",
    "plt.show()\n"
   ]
  },
  {
   "cell_type": "markdown",
   "metadata": {},
   "source": [
    "en este diagrama de dispersion podemos visualizar los tiempos promedios de espera de los usuarios  marcamos un limite  y vemos que tenemos 4 usuarios que no cumplen con nuestras metricas establecidas  y otros que rosan con ese limite pero estan dentro de la metrica  \n"
   ]
  },
  {
   "cell_type": "code",
   "execution_count": 24,
   "metadata": {
    "trusted": false
   },
   "outputs": [
    {
     "data": {
      "image/png": "[encoded data removed]",
      "text/plain": [
       "<Figure size 1000x600 with 1 Axes>"
      ]
     },
     "metadata": {},
     "output_type": "display_data"
    }
   ],
   "source": [
    "operadores_metrics[\"grupo\"] = np.where(\n",
    "    operadores_metrics[\"operator_id\"].isin(operadores_ineficaces[\"operator_id\"]),\n",
    "    \"Ineficientes\",\n",
    "    \"Eficientes\"\n",
    ")\n",
    "\n",
    "plt.figure(figsize=(10, 6))\n",
    "\n",
    "sns.histplot(\n",
    "    data=operadores_metrics,\n",
    "    x=\"avg_wait_time\",\n",
    "    hue=\"grupo\",\n",
    "    bins=20,\n",
    "    kde=True,\n",
    "    palette={\"Eficientes\": \"green\", \"Ineficientes\": \"red\"}\n",
    ")\n",
    "\n",
    "plt.title(\"Distribución del Tiempo de Espera por Grupo\")\n",
    "plt.xlabel(\"Tiempo de Espera Promedio (segundos)\")\n",
    "plt.ylabel(\"Frecuencia\")\n",
    "plt.show()\n"
   ]
  },
  {
   "cell_type": "markdown",
   "metadata": {},
   "source": [
    "en la grafica que podemos observar interpretamos el tiempo de espera con usuarios eficicinetes y ineficientes, basandonos en las metricas marcamos en verde los operadores que estan en un buen tiempo de espera  y en rojo los usuarios que su tiempo promedio no es bueno aun que vemos una pequeña linea roja  tenemos otros usuarios que tambien estan al limite del tiempo promedio de espera "
   ]
  },
  {
   "cell_type": "markdown",
   "metadata": {},
   "source": [
    "## Hipotesis 1 : Los operadores con llamadas internas tienen menos llamadas perdidas\n",
    "\n",
    "hipotesis nula: no hay diferencia en la tasa de llamadas perdidas entre operadores  con mas llamadas internas y operadores con menos llamadas internas \n",
    "\n",
    "hipotesis alternativa : los operadores con mas llamadas internas tienen  una tasa significativamente  diferente de llamadas perdidas en comparacion con aquellos con menos internas "
   ]
  },
  {
   "cell_type": "code",
   "execution_count": 25,
   "metadata": {
    "scrolled": false,
    "trusted": false
   },
   "outputs": [],
   "source": [
    "\n",
    "op_metrics = df.groupby('operator_id').agg(\n",
    "    total_calls=('calls_count', 'sum'),\n",
    "    missed_calls=('is_missed_call', 'sum')\n",
    ").reset_index()\n",
    "\n",
    "\n",
    "internal_calls = df[df['internal'] == True].groupby('operator_id').agg(\n",
    "    internal_calls=('calls_count', 'sum')\n",
    ").reset_index()\n",
    "\n",
    "op_metrics = op_metrics.merge(internal_calls, on='operator_id', how='left')\n",
    "op_metrics['internal_calls'] = op_metrics['internal_calls'].fillna(0)\n",
    "\n",
    "\n",
    "op_metrics['missed_rate'] = op_metrics.apply(\n",
    "    lambda row: row['missed_calls'] / row['total_calls'] if row['total_calls'] != 0 else np.nan,\n",
    "    axis=1\n",
    ")\n",
    "\n",
    "median_internal = op_metrics['internal_calls'].median()\n",
    "group_mas_internas = op_metrics[op_metrics['internal_calls'] > median_internal]\n",
    "group_menos_internas = op_metrics[op_metrics['internal_calls'] <= median_internal]\n",
    "\n",
    "t_stat1, p_val1 = ttest_ind(\n",
    "    group_mas_internas['missed_rate'].dropna(),\n",
    "    group_menos_internas['missed_rate'].dropna(),\n",
    "    equal_var=False\n",
    ")\n"
   ]
  },
  {
   "cell_type": "code",
   "execution_count": 26,
   "metadata": {
    "trusted": false
   },
   "outputs": [
    {
     "name": "stdout",
     "output_type": "stream",
     "text": [
      "HIPÓTESIS 1: Comparación de la tasa de llamadas perdidas según llamadas internas\n",
      "Estadístico t: -0.0842, Valor p: 0.9329\n",
      "No se rechaza la hipótesis nula: no se encuentra diferencia significativa en la tasa de llamadas perdidas.\n"
     ]
    }
   ],
   "source": [
    "print(\"HIPÓTESIS 1: Comparación de la tasa de llamadas perdidas según llamadas internas\")\n",
    "print(f\"Estadístico t: {t_stat1:.4f}, Valor p: {p_val1:.4f}\")\n",
    "if p_val1 < 0.05:\n",
    "    print(\"Rechazamos la hipótesis nula: existe una diferencia significativa en la tasa de llamadas perdidas.\")\n",
    "else:\n",
    "    print(\"No se rechaza la hipótesis nula: no se encuentra diferencia significativa en la tasa de llamadas perdidas.\")\n"
   ]
  },
  {
   "cell_type": "markdown",
   "metadata": {},
   "source": [
    "## Hipotesis 2  : El tiempo de espera promedio esta relacionado con la tarifa del cliente \n",
    "\n",
    "hipotesis nula : no hay relacion entre el tiempo de espera promedio y  la tarifa del cliente \n",
    "\n",
    "hipotesis alternativa : hay una relacion significativa entre el tiempo de  espera promedio y la tarifa del cliente  "
   ]
  },
  {
   "cell_type": "code",
   "execution_count": 27,
   "metadata": {
    "trusted": false
   },
   "outputs": [],
   "source": [
    "\n",
    "df['total_call_duration'] = pd.to_numeric(df['total_call_duration'], errors='coerce')\n",
    "df['call_duration'] = pd.to_numeric(df['call_duration'], errors='coerce')\n",
    "\n",
    "df_merged = df.merge(df_clientes, on='user_id')\n",
    "\n",
    "df_merged['tiempo_espera'] = df_merged['total_call_duration'] - df_merged['call_duration']\n",
    "\n",
    "df_merged['tariff_plan'] = df_merged['tariff_plan'].astype('category').cat.codes\n",
    "df_merged['tiempo_espera'] = pd.to_numeric(df_merged['tiempo_espera'], errors='coerce')\n",
    "\n",
    "espera_por_tarifa = df_merged.groupby('tariff_plan')['tiempo_espera'].mean().reset_index()\n"
   ]
  },
  {
   "cell_type": "code",
   "execution_count": 28,
   "metadata": {
    "scrolled": false,
    "trusted": false
   },
   "outputs": [
    {
     "name": "stdout",
     "output_type": "stream",
     "text": [
      "Coeficiente de correlación: -0.8459, Valor p: 0.3581\n",
      "No se rechaza la hipótesis nula: no hay evidencia suficiente de una relación significativa.\n"
     ]
    }
   ],
   "source": [
    "\n",
    "corr, p_val = pearsonr(espera_por_tarifa['tariff_plan'], espera_por_tarifa['tiempo_espera'])\n",
    "\n",
    "print(f'Coeficiente de correlación: {corr:.4f}, Valor p: {p_val:.4f}')\n",
    "if p_val < 0.05:\n",
    "    print(\"Rechazamos la hipótesis nula: hay una relación significativa entre el plan de tarifa y el tiempo de espera.\")\n",
    "else:\n",
    "    print(\"No se rechaza la hipótesis nula: no hay evidencia suficiente de una relación significativa.\")\n",
    "\n"
   ]
  },
  {
   "cell_type": "markdown",
   "metadata": {},
   "source": [
    "## Conclusion "
   ]
  },
  {
   "cell_type": "markdown",
   "metadata": {
    "scrolled": false
   },
   "source": [
    "el análisis exploratorio nos permitió comprender la distribución de las llamadas \n",
    "Descubrimos que ciertos operadores acumulaban un número desproporcionado de llamadas entrantes perdidas, lo cual era un indicativo de ineficacia.\n",
    "\n",
    "observamos que estos operadores también presentaban tiempos de espera significativamente grandes , afectando negativamente la experiencia del cliente.\n",
    "al considerar las llamadas salientes, identificamos que algunos operadores registraban números bajos.\n",
    "\n",
    "en la prueba de hipotesis existe una diferencia significativa en la tasa de llamadas perdidas entre operadores con diferentes volúmenes de llamadas internas y entre el plan de tarifa de los clientes y el tiempo de espera promedio, indicando que ciertas tarifas podrían estar asociadas con niveles de servicio diferenciado pero no hay una evidencia solida sobre aquella informacion  \n",
    "\n",
    "podriamos sugerir entre todos estos casos una formacion un poco mas dedicada hacia los operadores y incentivos para que mantengan unas mejores metricas asi como apoyo mas personalizado a aquellos opreadores que consideramos ineficases.\n"
   ]
  }
 ],
 "metadata": {
  "ExecuteTimeLog": [
   {
    "duration": 289,
    "start_time": "2025-02-28T05:10:51.307Z"
   },
   {
    "duration": 542,
    "start_time": "2025-02-28T05:11:20.384Z"
   },
   {
    "duration": 58,
    "start_time": "2025-02-28T05:11:29.790Z"
   },
   {
    "duration": 59,
    "start_time": "2025-02-28T05:11:54.055Z"
   },
   {
    "duration": 60,
    "start_time": "2025-02-28T05:12:32.046Z"
   },
   {
    "duration": 60,
    "start_time": "2025-02-28T05:15:03.391Z"
   },
   {
    "duration": 60,
    "start_time": "2025-02-28T05:15:19.177Z"
   },
   {
    "duration": 61,
    "start_time": "2025-02-28T05:17:00.601Z"
   },
   {
    "duration": 58,
    "start_time": "2025-02-28T05:17:45.005Z"
   },
   {
    "duration": 16,
    "start_time": "2025-02-28T05:18:05.382Z"
   },
   {
    "duration": 90,
    "start_time": "2025-02-28T05:33:43.746Z"
   },
   {
    "duration": 40,
    "start_time": "2025-02-28T05:34:02.403Z"
   },
   {
    "duration": 8,
    "start_time": "2025-02-28T05:35:36.246Z"
   },
   {
    "duration": 3,
    "start_time": "2025-02-28T05:37:54.474Z"
   },
   {
    "duration": 3,
    "start_time": "2025-02-28T05:38:55.057Z"
   },
   {
    "duration": 161,
    "start_time": "2025-02-28T07:16:08.671Z"
   },
   {
    "duration": 293,
    "start_time": "2025-02-28T07:16:17.473Z"
   },
   {
    "duration": 69,
    "start_time": "2025-02-28T07:16:17.823Z"
   },
   {
    "duration": 3,
    "start_time": "2025-02-28T07:16:18.182Z"
   },
   {
    "duration": 49,
    "start_time": "2025-02-28T07:16:19.517Z"
   },
   {
    "duration": 17,
    "start_time": "2025-02-28T07:17:17.823Z"
   },
   {
    "duration": 2,
    "start_time": "2025-02-28T07:17:30.109Z"
   },
   {
    "duration": 39,
    "start_time": "2025-02-28T07:17:30.576Z"
   },
   {
    "duration": 3,
    "start_time": "2025-02-28T07:17:30.935Z"
   },
   {
    "duration": 46,
    "start_time": "2025-02-28T07:17:31.133Z"
   },
   {
    "duration": 15,
    "start_time": "2025-02-28T07:17:32.967Z"
   },
   {
    "duration": 2316,
    "start_time": "2025-02-28T07:22:52.489Z"
   },
   {
    "duration": 40,
    "start_time": "2025-02-28T07:22:54.808Z"
   },
   {
    "duration": 3,
    "start_time": "2025-02-28T07:22:54.850Z"
   },
   {
    "duration": 46,
    "start_time": "2025-02-28T07:22:55.967Z"
   },
   {
    "duration": 16,
    "start_time": "2025-02-28T07:22:56.159Z"
   },
   {
    "duration": 5306,
    "start_time": "2025-02-28T07:23:23.214Z"
   },
   {
    "duration": 5281,
    "start_time": "2025-02-28T07:23:36.980Z"
   },
   {
    "duration": 5132,
    "start_time": "2025-02-28T07:23:44.698Z"
   },
   {
    "duration": 15,
    "start_time": "2025-02-28T07:24:14.760Z"
   },
   {
    "duration": 5584,
    "start_time": "2025-02-28T07:26:05.062Z"
   },
   {
    "duration": 16,
    "start_time": "2025-02-28T07:27:32.565Z"
   },
   {
    "duration": 17,
    "start_time": "2025-02-28T07:28:21.871Z"
   },
   {
    "duration": 20,
    "start_time": "2025-02-28T07:29:00.094Z"
   },
   {
    "duration": 19,
    "start_time": "2025-02-28T07:29:43.346Z"
   },
   {
    "duration": 15,
    "start_time": "2025-02-28T07:30:45.599Z"
   },
   {
    "duration": 16,
    "start_time": "2025-02-28T07:31:06.871Z"
   },
   {
    "duration": 13,
    "start_time": "2025-02-28T07:31:07.458Z"
   },
   {
    "duration": 9,
    "start_time": "2025-02-28T07:36:04.989Z"
   },
   {
    "duration": 2,
    "start_time": "2025-02-28T07:36:08.337Z"
   },
   {
    "duration": 39,
    "start_time": "2025-02-28T07:36:08.630Z"
   },
   {
    "duration": 4,
    "start_time": "2025-02-28T07:36:09.262Z"
   },
   {
    "duration": 45,
    "start_time": "2025-02-28T07:36:09.770Z"
   },
   {
    "duration": 9,
    "start_time": "2025-02-28T07:36:10.315Z"
   },
   {
    "duration": 14,
    "start_time": "2025-02-28T07:36:10.802Z"
   },
   {
    "duration": 15,
    "start_time": "2025-02-28T07:36:11.381Z"
   },
   {
    "duration": 12,
    "start_time": "2025-02-28T07:36:11.809Z"
   },
   {
    "duration": 9,
    "start_time": "2025-02-28T07:36:16.801Z"
   },
   {
    "duration": 2,
    "start_time": "2025-02-28T07:37:11.790Z"
   },
   {
    "duration": 43,
    "start_time": "2025-02-28T07:37:12.482Z"
   },
   {
    "duration": 3,
    "start_time": "2025-02-28T07:37:12.941Z"
   },
   {
    "duration": 10,
    "start_time": "2025-02-28T07:37:13.667Z"
   },
   {
    "duration": 46,
    "start_time": "2025-02-28T07:37:14.136Z"
   },
   {
    "duration": 9,
    "start_time": "2025-02-28T07:40:41.432Z"
   },
   {
    "duration": 4,
    "start_time": "2025-02-28T07:41:08.842Z"
   },
   {
    "duration": 7,
    "start_time": "2025-02-28T07:41:31.515Z"
   },
   {
    "duration": 6,
    "start_time": "2025-02-28T07:42:38.078Z"
   },
   {
    "duration": 6,
    "start_time": "2025-02-28T07:43:09.105Z"
   },
   {
    "duration": 4,
    "start_time": "2025-02-28T07:44:34.352Z"
   },
   {
    "duration": 14,
    "start_time": "2025-02-28T07:44:39.152Z"
   },
   {
    "duration": 15,
    "start_time": "2025-02-28T07:44:41.989Z"
   },
   {
    "duration": 11,
    "start_time": "2025-02-28T07:44:44.322Z"
   },
   {
    "duration": 7,
    "start_time": "2025-02-28T07:44:56.316Z"
   },
   {
    "duration": 6,
    "start_time": "2025-02-28T07:45:00.450Z"
   },
   {
    "duration": 791,
    "start_time": "2025-02-28T07:45:08.290Z"
   },
   {
    "duration": 45,
    "start_time": "2025-02-28T07:45:09.084Z"
   },
   {
    "duration": 2,
    "start_time": "2025-02-28T07:45:09.131Z"
   },
   {
    "duration": 9,
    "start_time": "2025-02-28T07:45:09.136Z"
   },
   {
    "duration": 42,
    "start_time": "2025-02-28T07:45:09.146Z"
   },
   {
    "duration": 313,
    "start_time": "2025-02-28T07:45:09.254Z"
   },
   {
    "duration": 834,
    "start_time": "2025-02-28T07:45:12.357Z"
   },
   {
    "duration": 53,
    "start_time": "2025-02-28T07:45:13.193Z"
   },
   {
    "duration": 4,
    "start_time": "2025-02-28T07:45:13.247Z"
   },
   {
    "duration": 10,
    "start_time": "2025-02-28T07:45:13.255Z"
   },
   {
    "duration": 53,
    "start_time": "2025-02-28T07:45:13.266Z"
   },
   {
    "duration": 5,
    "start_time": "2025-02-28T07:45:13.320Z"
   },
   {
    "duration": 12,
    "start_time": "2025-02-28T07:45:13.327Z"
   },
   {
    "duration": 13,
    "start_time": "2025-02-28T07:45:13.341Z"
   },
   {
    "duration": 12,
    "start_time": "2025-02-28T07:45:13.356Z"
   },
   {
    "duration": 315,
    "start_time": "2025-02-28T07:45:13.370Z"
   },
   {
    "duration": 14,
    "start_time": "2025-02-28T07:46:02.892Z"
   },
   {
    "duration": 8,
    "start_time": "2025-02-28T07:46:08.330Z"
   },
   {
    "duration": 15,
    "start_time": "2025-02-28T07:47:08.019Z"
   },
   {
    "duration": 12,
    "start_time": "2025-02-28T07:47:09.753Z"
   },
   {
    "duration": 13,
    "start_time": "2025-02-28T07:47:51.827Z"
   },
   {
    "duration": 4,
    "start_time": "2025-02-28T07:47:53.117Z"
   },
   {
    "duration": 13,
    "start_time": "2025-02-28T07:47:54.292Z"
   },
   {
    "duration": 3,
    "start_time": "2025-02-28T07:48:33.566Z"
   },
   {
    "duration": 12,
    "start_time": "2025-02-28T07:48:34.249Z"
   },
   {
    "duration": 12,
    "start_time": "2025-02-28T07:48:56.552Z"
   },
   {
    "duration": 14,
    "start_time": "2025-02-28T07:48:59.983Z"
   },
   {
    "duration": 11,
    "start_time": "2025-02-28T07:49:01.672Z"
   },
   {
    "duration": 4,
    "start_time": "2025-02-28T07:49:25.115Z"
   },
   {
    "duration": 12,
    "start_time": "2025-02-28T07:49:25.964Z"
   },
   {
    "duration": 13,
    "start_time": "2025-02-28T07:49:29.068Z"
   },
   {
    "duration": 4,
    "start_time": "2025-02-28T07:49:29.482Z"
   },
   {
    "duration": 11,
    "start_time": "2025-02-28T07:49:29.935Z"
   },
   {
    "duration": 15,
    "start_time": "2025-02-28T07:50:11.307Z"
   },
   {
    "duration": 4,
    "start_time": "2025-02-28T07:50:19.326Z"
   },
   {
    "duration": 10,
    "start_time": "2025-02-28T07:50:20.375Z"
   },
   {
    "duration": 5,
    "start_time": "2025-02-28T07:51:16.085Z"
   },
   {
    "duration": 5,
    "start_time": "2025-02-28T07:51:57.944Z"
   },
   {
    "duration": 16,
    "start_time": "2025-02-28T07:54:43.107Z"
   },
   {
    "duration": 14,
    "start_time": "2025-02-28T07:54:58.695Z"
   },
   {
    "duration": 11,
    "start_time": "2025-02-28T07:55:02.216Z"
   },
   {
    "duration": 10,
    "start_time": "2025-02-28T07:55:36.662Z"
   },
   {
    "duration": 52,
    "start_time": "2025-02-28T07:57:22.046Z"
   },
   {
    "duration": 5,
    "start_time": "2025-02-28T07:57:32.906Z"
   },
   {
    "duration": 14,
    "start_time": "2025-02-28T07:57:33.937Z"
   },
   {
    "duration": 52,
    "start_time": "2025-02-28T07:57:35.131Z"
   },
   {
    "duration": 5,
    "start_time": "2025-02-28T07:58:08.897Z"
   },
   {
    "duration": 12,
    "start_time": "2025-02-28T07:58:09.678Z"
   },
   {
    "duration": 10,
    "start_time": "2025-02-28T07:58:16.497Z"
   },
   {
    "duration": 15,
    "start_time": "2025-02-28T07:58:25.293Z"
   },
   {
    "duration": 4,
    "start_time": "2025-02-28T07:58:25.714Z"
   },
   {
    "duration": 11,
    "start_time": "2025-02-28T07:58:25.967Z"
   },
   {
    "duration": 18,
    "start_time": "2025-02-28T07:58:49.187Z"
   },
   {
    "duration": 4,
    "start_time": "2025-02-28T07:58:51.917Z"
   },
   {
    "duration": 13,
    "start_time": "2025-02-28T07:58:59.124Z"
   },
   {
    "duration": 4,
    "start_time": "2025-02-28T07:58:59.762Z"
   },
   {
    "duration": 13,
    "start_time": "2025-02-28T07:59:00.522Z"
   },
   {
    "duration": 11,
    "start_time": "2025-02-28T07:59:55.361Z"
   },
   {
    "duration": 11,
    "start_time": "2025-02-28T08:01:13.306Z"
   },
   {
    "duration": 12,
    "start_time": "2025-02-28T08:01:30.236Z"
   },
   {
    "duration": 434,
    "start_time": "2025-02-28T08:02:31.876Z"
   },
   {
    "duration": 4,
    "start_time": "2025-02-28T08:03:54.666Z"
   },
   {
    "duration": 10,
    "start_time": "2025-02-28T08:04:00.561Z"
   },
   {
    "duration": 160,
    "start_time": "2025-03-02T06:12:27.224Z"
   },
   {
    "duration": 3,
    "start_time": "2025-03-02T06:12:29.519Z"
   },
   {
    "duration": 2537,
    "start_time": "2025-03-02T06:12:29.792Z"
   },
   {
    "duration": 68,
    "start_time": "2025-03-02T06:12:32.331Z"
   },
   {
    "duration": 14,
    "start_time": "2025-03-02T06:12:32.694Z"
   },
   {
    "duration": 4,
    "start_time": "2025-03-02T06:17:21.011Z"
   },
   {
    "duration": 870,
    "start_time": "2025-03-02T06:17:21.018Z"
   },
   {
    "duration": 41,
    "start_time": "2025-03-02T06:17:21.890Z"
   },
   {
    "duration": 4,
    "start_time": "2025-03-02T06:17:21.934Z"
   },
   {
    "duration": 10,
    "start_time": "2025-03-02T06:17:21.939Z"
   },
   {
    "duration": 59,
    "start_time": "2025-03-02T06:17:21.951Z"
   },
   {
    "duration": 5,
    "start_time": "2025-03-02T06:17:22.012Z"
   },
   {
    "duration": 13,
    "start_time": "2025-03-02T06:17:22.019Z"
   },
   {
    "duration": 12,
    "start_time": "2025-03-02T06:17:22.035Z"
   },
   {
    "duration": 4,
    "start_time": "2025-03-02T06:17:22.049Z"
   },
   {
    "duration": 5,
    "start_time": "2025-03-02T06:17:22.055Z"
   },
   {
    "duration": 13,
    "start_time": "2025-03-02T06:17:22.087Z"
   },
   {
    "duration": 11,
    "start_time": "2025-03-02T06:17:22.102Z"
   },
   {
    "duration": 13,
    "start_time": "2025-03-02T06:17:22.114Z"
   },
   {
    "duration": 6,
    "start_time": "2025-03-02T06:17:31.681Z"
   },
   {
    "duration": 32,
    "start_time": "2025-03-02T06:20:54.520Z"
   },
   {
    "duration": 7,
    "start_time": "2025-03-02T06:20:57.910Z"
   },
   {
    "duration": 31,
    "start_time": "2025-03-02T06:23:00.188Z"
   },
   {
    "duration": 3,
    "start_time": "2025-03-02T06:24:38.913Z"
   },
   {
    "duration": 814,
    "start_time": "2025-03-02T06:24:38.919Z"
   },
   {
    "duration": 41,
    "start_time": "2025-03-02T06:24:39.736Z"
   },
   {
    "duration": 7,
    "start_time": "2025-03-02T06:24:39.779Z"
   },
   {
    "duration": 10,
    "start_time": "2025-03-02T06:24:39.788Z"
   },
   {
    "duration": 43,
    "start_time": "2025-03-02T06:24:39.800Z"
   },
   {
    "duration": 5,
    "start_time": "2025-03-02T06:24:39.845Z"
   },
   {
    "duration": 43,
    "start_time": "2025-03-02T06:24:39.852Z"
   },
   {
    "duration": 13,
    "start_time": "2025-03-02T06:24:39.897Z"
   },
   {
    "duration": 4,
    "start_time": "2025-03-02T06:24:39.912Z"
   },
   {
    "duration": 2,
    "start_time": "2025-03-02T06:24:39.919Z"
   },
   {
    "duration": 14,
    "start_time": "2025-03-02T06:24:39.923Z"
   },
   {
    "duration": 15,
    "start_time": "2025-03-02T06:24:39.942Z"
   },
   {
    "duration": 5,
    "start_time": "2025-03-02T06:26:10.881Z"
   },
   {
    "duration": 15,
    "start_time": "2025-03-02T06:26:23.217Z"
   },
   {
    "duration": 5,
    "start_time": "2025-03-02T06:26:57.254Z"
   },
   {
    "duration": 11,
    "start_time": "2025-03-02T06:28:19.637Z"
   },
   {
    "duration": 15,
    "start_time": "2025-03-02T06:32:44.671Z"
   },
   {
    "duration": 4,
    "start_time": "2025-03-02T06:32:45.505Z"
   },
   {
    "duration": 2,
    "start_time": "2025-03-02T06:32:46.029Z"
   },
   {
    "duration": 12,
    "start_time": "2025-03-02T06:32:46.509Z"
   },
   {
    "duration": 14,
    "start_time": "2025-03-02T06:32:59.956Z"
   },
   {
    "duration": 4,
    "start_time": "2025-03-02T06:33:00.303Z"
   },
   {
    "duration": 4,
    "start_time": "2025-03-02T06:33:00.658Z"
   },
   {
    "duration": 11,
    "start_time": "2025-03-02T06:33:00.928Z"
   },
   {
    "duration": 21,
    "start_time": "2025-03-02T06:36:52.743Z"
   },
   {
    "duration": 49,
    "start_time": "2025-03-02T06:36:59.765Z"
   },
   {
    "duration": 10,
    "start_time": "2025-03-02T06:38:16.837Z"
   },
   {
    "duration": 29,
    "start_time": "2025-03-02T06:38:23.584Z"
   },
   {
    "duration": 22,
    "start_time": "2025-03-02T06:44:01.596Z"
   },
   {
    "duration": 3210,
    "start_time": "2025-03-02T06:45:17.095Z"
   },
   {
    "duration": 18,
    "start_time": "2025-03-02T06:46:54.837Z"
   },
   {
    "duration": 758,
    "start_time": "2025-03-02T06:47:31.884Z"
   },
   {
    "duration": 929,
    "start_time": "2025-03-02T06:48:27.705Z"
   },
   {
    "duration": 7770,
    "start_time": "2025-03-02T07:03:27.483Z"
   },
   {
    "duration": 309,
    "start_time": "2025-03-02T07:04:02.696Z"
   },
   {
    "duration": 15,
    "start_time": "2025-03-02T07:04:51.657Z"
   },
   {
    "duration": 15,
    "start_time": "2025-03-02T07:08:24.135Z"
   },
   {
    "duration": 15,
    "start_time": "2025-03-02T07:09:28.197Z"
   },
   {
    "duration": 12,
    "start_time": "2025-03-02T07:09:28.556Z"
   },
   {
    "duration": 394,
    "start_time": "2025-03-02T07:09:56.177Z"
   },
   {
    "duration": 12,
    "start_time": "2025-03-02T07:10:29.955Z"
   },
   {
    "duration": 14,
    "start_time": "2025-03-02T07:26:01.902Z"
   },
   {
    "duration": 13,
    "start_time": "2025-03-02T07:26:02.980Z"
   },
   {
    "duration": 5,
    "start_time": "2025-03-02T07:26:03.740Z"
   },
   {
    "duration": 9,
    "start_time": "2025-03-02T07:26:04.665Z"
   },
   {
    "duration": 436,
    "start_time": "2025-03-02T07:26:05.846Z"
   },
   {
    "duration": 8,
    "start_time": "2025-03-02T07:28:06.277Z"
   },
   {
    "duration": 337,
    "start_time": "2025-03-02T07:31:16.885Z"
   },
   {
    "duration": 26,
    "start_time": "2025-03-02T07:35:08.195Z"
   },
   {
    "duration": 250,
    "start_time": "2025-03-02T07:35:39.194Z"
   },
   {
    "duration": 3,
    "start_time": "2025-03-02T07:38:23.188Z"
   },
   {
    "duration": 837,
    "start_time": "2025-03-02T07:38:23.194Z"
   },
   {
    "duration": 42,
    "start_time": "2025-03-02T07:38:24.032Z"
   },
   {
    "duration": 10,
    "start_time": "2025-03-02T07:38:24.076Z"
   },
   {
    "duration": 10,
    "start_time": "2025-03-02T07:38:24.089Z"
   },
   {
    "duration": 42,
    "start_time": "2025-03-02T07:38:24.100Z"
   },
   {
    "duration": 15,
    "start_time": "2025-03-02T07:38:24.144Z"
   },
   {
    "duration": 25,
    "start_time": "2025-03-02T07:38:24.161Z"
   },
   {
    "duration": 15,
    "start_time": "2025-03-02T07:38:24.188Z"
   },
   {
    "duration": 25,
    "start_time": "2025-03-02T07:38:24.204Z"
   },
   {
    "duration": 13,
    "start_time": "2025-03-02T07:38:24.231Z"
   },
   {
    "duration": 3214,
    "start_time": "2025-03-02T07:38:24.245Z"
   },
   {
    "duration": 26,
    "start_time": "2025-03-02T07:38:27.461Z"
   },
   {
    "duration": 13,
    "start_time": "2025-03-02T07:38:27.491Z"
   },
   {
    "duration": 10,
    "start_time": "2025-03-02T07:38:27.506Z"
   },
   {
    "duration": 4,
    "start_time": "2025-03-02T07:38:27.518Z"
   },
   {
    "duration": 10,
    "start_time": "2025-03-02T07:38:27.524Z"
   },
   {
    "duration": 8,
    "start_time": "2025-03-02T07:38:27.536Z"
   },
   {
    "duration": 5,
    "start_time": "2025-03-02T07:38:27.545Z"
   },
   {
    "duration": 1,
    "start_time": "2025-03-02T07:38:27.551Z"
   },
   {
    "duration": 0,
    "start_time": "2025-03-02T07:38:27.553Z"
   },
   {
    "duration": 0,
    "start_time": "2025-03-02T07:38:27.587Z"
   },
   {
    "duration": 0,
    "start_time": "2025-03-02T07:38:27.588Z"
   },
   {
    "duration": 0,
    "start_time": "2025-03-02T07:38:27.589Z"
   },
   {
    "duration": 0,
    "start_time": "2025-03-02T07:38:27.591Z"
   },
   {
    "duration": 4,
    "start_time": "2025-03-02T07:38:40.710Z"
   },
   {
    "duration": 1121,
    "start_time": "2025-03-02T07:38:52.974Z"
   },
   {
    "duration": 3,
    "start_time": "2025-03-02T07:39:25.245Z"
   },
   {
    "duration": 488,
    "start_time": "2025-03-02T07:41:38.495Z"
   },
   {
    "duration": 562,
    "start_time": "2025-03-02T07:44:36.548Z"
   },
   {
    "duration": 524,
    "start_time": "2025-03-02T07:44:49.983Z"
   },
   {
    "duration": 1071,
    "start_time": "2025-03-02T07:44:59.332Z"
   },
   {
    "duration": 1124,
    "start_time": "2025-03-02T07:46:17.909Z"
   },
   {
    "duration": 1127,
    "start_time": "2025-03-02T07:46:30.264Z"
   },
   {
    "duration": 1016,
    "start_time": "2025-03-02T07:46:50.130Z"
   },
   {
    "duration": 1099,
    "start_time": "2025-03-02T07:47:11.653Z"
   },
   {
    "duration": 1051,
    "start_time": "2025-03-02T07:47:25.605Z"
   },
   {
    "duration": 4,
    "start_time": "2025-03-02T07:58:35.678Z"
   },
   {
    "duration": 800,
    "start_time": "2025-03-02T07:58:42.037Z"
   },
   {
    "duration": 0,
    "start_time": "2025-03-02T07:58:42.839Z"
   },
   {
    "duration": 3,
    "start_time": "2025-03-02T07:58:58.001Z"
   },
   {
    "duration": 852,
    "start_time": "2025-03-02T07:58:58.007Z"
   },
   {
    "duration": 42,
    "start_time": "2025-03-02T07:58:58.861Z"
   },
   {
    "duration": 4,
    "start_time": "2025-03-02T07:58:58.906Z"
   },
   {
    "duration": 11,
    "start_time": "2025-03-02T07:58:58.912Z"
   },
   {
    "duration": 41,
    "start_time": "2025-03-02T07:58:58.925Z"
   },
   {
    "duration": 32,
    "start_time": "2025-03-02T07:58:58.968Z"
   },
   {
    "duration": 5,
    "start_time": "2025-03-02T07:58:59.002Z"
   },
   {
    "duration": 16,
    "start_time": "2025-03-02T07:58:59.011Z"
   },
   {
    "duration": 26,
    "start_time": "2025-03-02T07:58:59.029Z"
   },
   {
    "duration": 38,
    "start_time": "2025-03-02T07:58:59.056Z"
   },
   {
    "duration": 3206,
    "start_time": "2025-03-02T07:58:59.096Z"
   },
   {
    "duration": 19,
    "start_time": "2025-03-02T07:59:02.304Z"
   },
   {
    "duration": 13,
    "start_time": "2025-03-02T07:59:02.325Z"
   },
   {
    "duration": 11,
    "start_time": "2025-03-02T07:59:02.339Z"
   },
   {
    "duration": 5,
    "start_time": "2025-03-02T07:59:02.352Z"
   },
   {
    "duration": 33,
    "start_time": "2025-03-02T07:59:02.359Z"
   },
   {
    "duration": 1116,
    "start_time": "2025-03-02T07:59:02.396Z"
   },
   {
    "duration": 4,
    "start_time": "2025-03-02T07:59:03.514Z"
   },
   {
    "duration": 4,
    "start_time": "2025-03-02T07:59:03.520Z"
   },
   {
    "duration": 11,
    "start_time": "2025-03-02T07:59:03.526Z"
   },
   {
    "duration": 11,
    "start_time": "2025-03-02T07:59:03.539Z"
   },
   {
    "duration": 250,
    "start_time": "2025-03-02T07:59:03.552Z"
   },
   {
    "duration": 14,
    "start_time": "2025-03-02T07:59:32.593Z"
   },
   {
    "duration": 12,
    "start_time": "2025-03-02T07:59:33.227Z"
   },
   {
    "duration": 5,
    "start_time": "2025-03-02T07:59:34.360Z"
   },
   {
    "duration": 8,
    "start_time": "2025-03-02T07:59:36.173Z"
   },
   {
    "duration": 1119,
    "start_time": "2025-03-02T07:59:38.749Z"
   },
   {
    "duration": 3197,
    "start_time": "2025-03-02T08:00:16.734Z"
   },
   {
    "duration": 15,
    "start_time": "2025-03-02T08:00:19.933Z"
   },
   {
    "duration": 14,
    "start_time": "2025-03-02T08:00:21.771Z"
   },
   {
    "duration": 13,
    "start_time": "2025-03-02T08:00:22.294Z"
   },
   {
    "duration": 5,
    "start_time": "2025-03-02T08:00:22.322Z"
   },
   {
    "duration": 8,
    "start_time": "2025-03-02T08:00:22.387Z"
   },
   {
    "duration": 1124,
    "start_time": "2025-03-02T08:00:22.478Z"
   },
   {
    "duration": 18,
    "start_time": "2025-03-02T08:23:56.952Z"
   },
   {
    "duration": 242,
    "start_time": "2025-03-02T08:24:38.978Z"
   },
   {
    "duration": 18,
    "start_time": "2025-03-02T08:24:42.749Z"
   },
   {
    "duration": 5,
    "start_time": "2025-03-02T08:24:43.306Z"
   },
   {
    "duration": 7,
    "start_time": "2025-03-02T08:24:43.784Z"
   },
   {
    "duration": 364,
    "start_time": "2025-03-02T08:24:44.507Z"
   },
   {
    "duration": 8,
    "start_time": "2025-03-02T08:25:49.654Z"
   },
   {
    "duration": 7,
    "start_time": "2025-03-02T08:26:06.104Z"
   },
   {
    "duration": 8,
    "start_time": "2025-03-02T08:27:12.337Z"
   },
   {
    "duration": 162,
    "start_time": "2025-03-04T05:57:34.539Z"
   },
   {
    "duration": 3,
    "start_time": "2025-03-04T05:57:40.066Z"
   },
   {
    "duration": 2546,
    "start_time": "2025-03-04T05:57:40.071Z"
   },
   {
    "duration": 61,
    "start_time": "2025-03-04T05:57:42.618Z"
   },
   {
    "duration": 4,
    "start_time": "2025-03-04T05:57:42.681Z"
   },
   {
    "duration": 10,
    "start_time": "2025-03-04T05:57:42.688Z"
   },
   {
    "duration": 43,
    "start_time": "2025-03-04T05:57:42.699Z"
   },
   {
    "duration": 16,
    "start_time": "2025-03-04T05:57:42.744Z"
   },
   {
    "duration": 5,
    "start_time": "2025-03-04T05:57:42.762Z"
   },
   {
    "duration": 15,
    "start_time": "2025-03-04T05:57:42.768Z"
   },
   {
    "duration": 49,
    "start_time": "2025-03-04T05:57:42.784Z"
   },
   {
    "duration": 3279,
    "start_time": "2025-03-04T05:57:42.835Z"
   },
   {
    "duration": 23,
    "start_time": "2025-03-04T05:57:46.116Z"
   },
   {
    "duration": 13,
    "start_time": "2025-03-04T05:57:46.141Z"
   },
   {
    "duration": 11,
    "start_time": "2025-03-04T05:57:46.158Z"
   },
   {
    "duration": 5,
    "start_time": "2025-03-04T05:57:46.170Z"
   },
   {
    "duration": 7,
    "start_time": "2025-03-04T05:57:46.177Z"
   },
   {
    "duration": 1086,
    "start_time": "2025-03-04T05:57:46.186Z"
   },
   {
    "duration": 18,
    "start_time": "2025-03-04T05:57:47.274Z"
   },
   {
    "duration": 4,
    "start_time": "2025-03-04T05:57:47.293Z"
   },
   {
    "duration": 7,
    "start_time": "2025-03-04T05:57:47.298Z"
   },
   {
    "duration": 6,
    "start_time": "2025-03-04T05:57:47.323Z"
   },
   {
    "duration": 413,
    "start_time": "2025-03-04T05:57:47.331Z"
   },
   {
    "duration": 8,
    "start_time": "2025-03-04T05:57:47.746Z"
   },
   {
    "duration": 251,
    "start_time": "2025-03-04T05:57:47.756Z"
   },
   {
    "duration": 227,
    "start_time": "2025-03-04T05:57:48.008Z"
   },
   {
    "duration": 0,
    "start_time": "2025-03-04T05:57:48.237Z"
   },
   {
    "duration": 0,
    "start_time": "2025-03-04T05:57:48.238Z"
   },
   {
    "duration": 0,
    "start_time": "2025-03-04T05:57:48.240Z"
   },
   {
    "duration": 53,
    "start_time": "2025-03-04T06:04:57.046Z"
   },
   {
    "duration": 13,
    "start_time": "2025-03-04T06:05:44.236Z"
   },
   {
    "duration": 13,
    "start_time": "2025-03-04T06:08:44.647Z"
   },
   {
    "duration": 2,
    "start_time": "2025-03-04T06:09:30.203Z"
   },
   {
    "duration": 13,
    "start_time": "2025-03-04T06:09:30.423Z"
   },
   {
    "duration": 3,
    "start_time": "2025-03-04T06:12:06.942Z"
   },
   {
    "duration": 8,
    "start_time": "2025-03-04T06:12:56.718Z"
   },
   {
    "duration": 47,
    "start_time": "2025-03-04T06:16:19.521Z"
   },
   {
    "duration": 332,
    "start_time": "2025-03-04T06:17:19.190Z"
   },
   {
    "duration": 56,
    "start_time": "2025-03-04T06:18:26.846Z"
   },
   {
    "duration": 39,
    "start_time": "2025-03-04T06:19:53.283Z"
   },
   {
    "duration": 63,
    "start_time": "2025-03-04T06:21:27.927Z"
   },
   {
    "duration": 17,
    "start_time": "2025-03-04T06:22:50.340Z"
   },
   {
    "duration": 5,
    "start_time": "2025-03-04T06:22:50.564Z"
   },
   {
    "duration": 14,
    "start_time": "2025-03-04T06:24:36.960Z"
   },
   {
    "duration": 12,
    "start_time": "2025-03-04T06:24:37.329Z"
   },
   {
    "duration": 5,
    "start_time": "2025-03-04T06:24:37.666Z"
   },
   {
    "duration": 8,
    "start_time": "2025-03-04T06:24:38.419Z"
   },
   {
    "duration": 1097,
    "start_time": "2025-03-04T06:24:39.353Z"
   },
   {
    "duration": 18,
    "start_time": "2025-03-04T06:24:40.452Z"
   },
   {
    "duration": 4,
    "start_time": "2025-03-04T06:24:40.552Z"
   },
   {
    "duration": 6,
    "start_time": "2025-03-04T06:24:40.841Z"
   },
   {
    "duration": 7,
    "start_time": "2025-03-04T06:24:41.259Z"
   },
   {
    "duration": 337,
    "start_time": "2025-03-04T06:24:41.466Z"
   },
   {
    "duration": 7,
    "start_time": "2025-03-04T06:24:41.826Z"
   },
   {
    "duration": 13,
    "start_time": "2025-03-04T06:24:42.237Z"
   },
   {
    "duration": 15,
    "start_time": "2025-03-04T06:24:42.494Z"
   },
   {
    "duration": 16,
    "start_time": "2025-03-04T06:24:42.938Z"
   },
   {
    "duration": 5,
    "start_time": "2025-03-04T06:24:43.581Z"
   },
   {
    "duration": 3575,
    "start_time": "2025-03-04T06:38:08.608Z"
   },
   {
    "duration": 3568,
    "start_time": "2025-03-04T06:38:35.052Z"
   },
   {
    "duration": 3549,
    "start_time": "2025-03-04T06:39:29.537Z"
   },
   {
    "duration": 796,
    "start_time": "2025-03-04T06:39:46.476Z"
   },
   {
    "duration": 2,
    "start_time": "2025-03-04T06:39:47.275Z"
   },
   {
    "duration": 56,
    "start_time": "2025-03-04T06:39:47.279Z"
   },
   {
    "duration": 3,
    "start_time": "2025-03-04T06:39:47.338Z"
   },
   {
    "duration": 11,
    "start_time": "2025-03-04T06:39:47.343Z"
   },
   {
    "duration": 43,
    "start_time": "2025-03-04T06:39:47.355Z"
   },
   {
    "duration": 32,
    "start_time": "2025-03-04T06:39:47.400Z"
   },
   {
    "duration": 4,
    "start_time": "2025-03-04T06:39:47.435Z"
   },
   {
    "duration": 14,
    "start_time": "2025-03-04T06:39:47.441Z"
   },
   {
    "duration": 289,
    "start_time": "2025-03-04T06:39:47.458Z"
   },
   {
    "duration": 0,
    "start_time": "2025-03-04T06:39:47.748Z"
   },
   {
    "duration": 0,
    "start_time": "2025-03-04T06:39:47.750Z"
   },
   {
    "duration": 0,
    "start_time": "2025-03-04T06:39:47.751Z"
   },
   {
    "duration": 0,
    "start_time": "2025-03-04T06:39:47.752Z"
   },
   {
    "duration": 0,
    "start_time": "2025-03-04T06:39:47.753Z"
   },
   {
    "duration": 0,
    "start_time": "2025-03-04T06:39:47.754Z"
   },
   {
    "duration": 0,
    "start_time": "2025-03-04T06:39:47.755Z"
   },
   {
    "duration": 0,
    "start_time": "2025-03-04T06:39:47.756Z"
   },
   {
    "duration": 0,
    "start_time": "2025-03-04T06:39:47.757Z"
   },
   {
    "duration": 0,
    "start_time": "2025-03-04T06:39:47.758Z"
   },
   {
    "duration": 0,
    "start_time": "2025-03-04T06:39:47.759Z"
   },
   {
    "duration": 0,
    "start_time": "2025-03-04T06:39:47.760Z"
   },
   {
    "duration": 0,
    "start_time": "2025-03-04T06:39:47.761Z"
   },
   {
    "duration": 0,
    "start_time": "2025-03-04T06:39:47.762Z"
   },
   {
    "duration": 0,
    "start_time": "2025-03-04T06:39:47.763Z"
   },
   {
    "duration": 0,
    "start_time": "2025-03-04T06:39:47.764Z"
   },
   {
    "duration": 0,
    "start_time": "2025-03-04T06:39:47.765Z"
   },
   {
    "duration": 0,
    "start_time": "2025-03-04T06:39:47.766Z"
   },
   {
    "duration": 14,
    "start_time": "2025-03-04T06:40:12.823Z"
   },
   {
    "duration": 12,
    "start_time": "2025-03-04T06:40:13.071Z"
   },
   {
    "duration": 5,
    "start_time": "2025-03-04T06:40:13.683Z"
   },
   {
    "duration": 9,
    "start_time": "2025-03-04T06:40:14.379Z"
   },
   {
    "duration": 1046,
    "start_time": "2025-03-04T06:40:15.187Z"
   },
   {
    "duration": 18,
    "start_time": "2025-03-04T06:40:16.235Z"
   },
   {
    "duration": 4,
    "start_time": "2025-03-04T06:40:16.254Z"
   },
   {
    "duration": 6,
    "start_time": "2025-03-04T06:40:16.260Z"
   },
   {
    "duration": 7,
    "start_time": "2025-03-04T06:40:16.524Z"
   },
   {
    "duration": 364,
    "start_time": "2025-03-04T06:40:16.753Z"
   },
   {
    "duration": 7,
    "start_time": "2025-03-04T06:40:17.119Z"
   },
   {
    "duration": 14,
    "start_time": "2025-03-04T06:40:17.289Z"
   },
   {
    "duration": 15,
    "start_time": "2025-03-04T06:40:17.751Z"
   },
   {
    "duration": 20,
    "start_time": "2025-03-04T06:40:18.072Z"
   },
   {
    "duration": 16,
    "start_time": "2025-03-04T06:40:18.904Z"
   },
   {
    "duration": 14,
    "start_time": "2025-03-04T06:40:48.040Z"
   },
   {
    "duration": 3206,
    "start_time": "2025-03-04T06:43:13.750Z"
   },
   {
    "duration": 144,
    "start_time": "2025-03-04T06:44:09.373Z"
   },
   {
    "duration": 5,
    "start_time": "2025-03-04T06:44:47.991Z"
   },
   {
    "duration": 237,
    "start_time": "2025-03-04T06:45:56.528Z"
   },
   {
    "duration": 8,
    "start_time": "2025-03-04T06:46:05.009Z"
   },
   {
    "duration": 44,
    "start_time": "2025-03-04T06:46:12.874Z"
   },
   {
    "duration": 44,
    "start_time": "2025-03-04T06:46:24.395Z"
   },
   {
    "duration": 811,
    "start_time": "2025-03-04T06:46:33.200Z"
   },
   {
    "duration": 3,
    "start_time": "2025-03-04T06:46:34.013Z"
   },
   {
    "duration": 49,
    "start_time": "2025-03-04T06:46:34.017Z"
   },
   {
    "duration": 3,
    "start_time": "2025-03-04T06:46:34.070Z"
   },
   {
    "duration": 10,
    "start_time": "2025-03-04T06:46:34.075Z"
   },
   {
    "duration": 54,
    "start_time": "2025-03-04T06:46:34.086Z"
   },
   {
    "duration": 15,
    "start_time": "2025-03-04T06:46:34.141Z"
   },
   {
    "duration": 5,
    "start_time": "2025-03-04T06:46:34.157Z"
   },
   {
    "duration": 15,
    "start_time": "2025-03-04T06:46:34.163Z"
   },
   {
    "duration": 288,
    "start_time": "2025-03-04T06:46:34.182Z"
   },
   {
    "duration": 0,
    "start_time": "2025-03-04T06:46:34.472Z"
   },
   {
    "duration": 0,
    "start_time": "2025-03-04T06:46:34.473Z"
   },
   {
    "duration": 0,
    "start_time": "2025-03-04T06:46:34.474Z"
   },
   {
    "duration": 0,
    "start_time": "2025-03-04T06:46:34.475Z"
   },
   {
    "duration": 0,
    "start_time": "2025-03-04T06:46:34.476Z"
   },
   {
    "duration": 0,
    "start_time": "2025-03-04T06:46:34.477Z"
   },
   {
    "duration": 0,
    "start_time": "2025-03-04T06:46:34.477Z"
   },
   {
    "duration": 0,
    "start_time": "2025-03-04T06:46:34.478Z"
   },
   {
    "duration": 0,
    "start_time": "2025-03-04T06:46:34.480Z"
   },
   {
    "duration": 0,
    "start_time": "2025-03-04T06:46:34.481Z"
   },
   {
    "duration": 0,
    "start_time": "2025-03-04T06:46:34.482Z"
   },
   {
    "duration": 0,
    "start_time": "2025-03-04T06:46:34.484Z"
   },
   {
    "duration": 0,
    "start_time": "2025-03-04T06:46:34.485Z"
   },
   {
    "duration": 0,
    "start_time": "2025-03-04T06:46:34.486Z"
   },
   {
    "duration": 0,
    "start_time": "2025-03-04T06:46:34.487Z"
   },
   {
    "duration": 0,
    "start_time": "2025-03-04T06:46:34.489Z"
   },
   {
    "duration": 0,
    "start_time": "2025-03-04T06:46:34.490Z"
   },
   {
    "duration": 0,
    "start_time": "2025-03-04T06:46:34.491Z"
   },
   {
    "duration": 801,
    "start_time": "2025-03-04T06:46:55.701Z"
   },
   {
    "duration": 2,
    "start_time": "2025-03-04T06:46:56.504Z"
   },
   {
    "duration": 50,
    "start_time": "2025-03-04T06:46:56.507Z"
   },
   {
    "duration": 3,
    "start_time": "2025-03-04T06:46:56.560Z"
   },
   {
    "duration": 10,
    "start_time": "2025-03-04T06:46:56.565Z"
   },
   {
    "duration": 53,
    "start_time": "2025-03-04T06:46:56.577Z"
   },
   {
    "duration": 17,
    "start_time": "2025-03-04T06:46:56.632Z"
   },
   {
    "duration": 4,
    "start_time": "2025-03-04T06:46:56.651Z"
   },
   {
    "duration": 13,
    "start_time": "2025-03-04T06:46:56.657Z"
   },
   {
    "duration": 14,
    "start_time": "2025-03-04T06:46:56.673Z"
   },
   {
    "duration": 42,
    "start_time": "2025-03-04T06:46:56.689Z"
   },
   {
    "duration": 5,
    "start_time": "2025-03-04T06:46:56.733Z"
   },
   {
    "duration": 9,
    "start_time": "2025-03-04T06:46:56.739Z"
   },
   {
    "duration": 1108,
    "start_time": "2025-03-04T06:46:56.750Z"
   },
   {
    "duration": 18,
    "start_time": "2025-03-04T06:46:57.860Z"
   },
   {
    "duration": 5,
    "start_time": "2025-03-04T06:46:57.879Z"
   },
   {
    "duration": 6,
    "start_time": "2025-03-04T06:46:57.885Z"
   },
   {
    "duration": 6,
    "start_time": "2025-03-04T06:46:57.893Z"
   },
   {
    "duration": 411,
    "start_time": "2025-03-04T06:46:57.901Z"
   },
   {
    "duration": 7,
    "start_time": "2025-03-04T06:46:58.314Z"
   },
   {
    "duration": 13,
    "start_time": "2025-03-04T06:46:58.323Z"
   },
   {
    "duration": 15,
    "start_time": "2025-03-04T06:46:58.337Z"
   },
   {
    "duration": 17,
    "start_time": "2025-03-04T06:46:58.354Z"
   },
   {
    "duration": 238,
    "start_time": "2025-03-04T06:46:58.372Z"
   },
   {
    "duration": 275,
    "start_time": "2025-03-04T06:47:18.598Z"
   },
   {
    "duration": 47,
    "start_time": "2025-03-04T06:47:34.224Z"
   },
   {
    "duration": 852,
    "start_time": "2025-03-04T06:47:53.237Z"
   },
   {
    "duration": 3,
    "start_time": "2025-03-04T06:47:54.091Z"
   },
   {
    "duration": 50,
    "start_time": "2025-03-04T06:47:54.095Z"
   },
   {
    "duration": 3,
    "start_time": "2025-03-04T06:47:54.147Z"
   },
   {
    "duration": 10,
    "start_time": "2025-03-04T06:47:54.152Z"
   },
   {
    "duration": 41,
    "start_time": "2025-03-04T06:47:54.164Z"
   },
   {
    "duration": 30,
    "start_time": "2025-03-04T06:47:54.207Z"
   },
   {
    "duration": 5,
    "start_time": "2025-03-04T06:47:54.238Z"
   },
   {
    "duration": 15,
    "start_time": "2025-03-04T06:47:54.244Z"
   },
   {
    "duration": 14,
    "start_time": "2025-03-04T06:47:54.262Z"
   },
   {
    "duration": 12,
    "start_time": "2025-03-04T06:47:54.277Z"
   },
   {
    "duration": 36,
    "start_time": "2025-03-04T06:47:54.291Z"
   },
   {
    "duration": 9,
    "start_time": "2025-03-04T06:47:54.328Z"
   },
   {
    "duration": 1091,
    "start_time": "2025-03-04T06:47:54.339Z"
   },
   {
    "duration": 18,
    "start_time": "2025-03-04T06:47:55.441Z"
   },
   {
    "duration": 4,
    "start_time": "2025-03-04T06:47:55.460Z"
   },
   {
    "duration": 5,
    "start_time": "2025-03-04T06:47:55.467Z"
   },
   {
    "duration": 8,
    "start_time": "2025-03-04T06:47:55.474Z"
   },
   {
    "duration": 426,
    "start_time": "2025-03-04T06:47:55.484Z"
   },
   {
    "duration": 7,
    "start_time": "2025-03-04T06:47:55.912Z"
   },
   {
    "duration": 13,
    "start_time": "2025-03-04T06:47:55.920Z"
   },
   {
    "duration": 14,
    "start_time": "2025-03-04T06:47:55.935Z"
   },
   {
    "duration": 17,
    "start_time": "2025-03-04T06:47:55.951Z"
   },
   {
    "duration": 239,
    "start_time": "2025-03-04T06:47:55.970Z"
   },
   {
    "duration": 240,
    "start_time": "2025-03-04T06:48:04.776Z"
   },
   {
    "duration": 839,
    "start_time": "2025-03-04T06:48:08.342Z"
   },
   {
    "duration": 3,
    "start_time": "2025-03-04T06:48:09.183Z"
   },
   {
    "duration": 50,
    "start_time": "2025-03-04T06:48:09.187Z"
   },
   {
    "duration": 3,
    "start_time": "2025-03-04T06:48:09.239Z"
   },
   {
    "duration": 9,
    "start_time": "2025-03-04T06:48:09.245Z"
   },
   {
    "duration": 44,
    "start_time": "2025-03-04T06:48:09.256Z"
   },
   {
    "duration": 33,
    "start_time": "2025-03-04T06:48:09.301Z"
   },
   {
    "duration": 5,
    "start_time": "2025-03-04T06:48:09.336Z"
   },
   {
    "duration": 15,
    "start_time": "2025-03-04T06:48:09.343Z"
   },
   {
    "duration": 14,
    "start_time": "2025-03-04T06:48:09.360Z"
   },
   {
    "duration": 12,
    "start_time": "2025-03-04T06:48:09.376Z"
   },
   {
    "duration": 4,
    "start_time": "2025-03-04T06:48:09.391Z"
   },
   {
    "duration": 38,
    "start_time": "2025-03-04T06:48:09.396Z"
   },
   {
    "duration": 1076,
    "start_time": "2025-03-04T06:48:09.437Z"
   },
   {
    "duration": 20,
    "start_time": "2025-03-04T06:48:10.515Z"
   },
   {
    "duration": 3,
    "start_time": "2025-03-04T06:48:10.537Z"
   },
   {
    "duration": 5,
    "start_time": "2025-03-04T06:48:10.542Z"
   },
   {
    "duration": 7,
    "start_time": "2025-03-04T06:48:10.549Z"
   },
   {
    "duration": 374,
    "start_time": "2025-03-04T06:48:10.558Z"
   },
   {
    "duration": 8,
    "start_time": "2025-03-04T06:48:10.934Z"
   },
   {
    "duration": 12,
    "start_time": "2025-03-04T06:48:10.944Z"
   },
   {
    "duration": 14,
    "start_time": "2025-03-04T06:48:10.957Z"
   },
   {
    "duration": 18,
    "start_time": "2025-03-04T06:48:10.972Z"
   },
   {
    "duration": 241,
    "start_time": "2025-03-04T06:48:10.992Z"
   },
   {
    "duration": 19,
    "start_time": "2025-03-04T06:53:03.772Z"
   },
   {
    "duration": 4,
    "start_time": "2025-03-04T06:53:04.562Z"
   },
   {
    "duration": 8,
    "start_time": "2025-03-04T06:53:05.083Z"
   },
   {
    "duration": 6,
    "start_time": "2025-03-04T06:53:10.555Z"
   },
   {
    "duration": 8,
    "start_time": "2025-03-04T06:53:12.132Z"
   },
   {
    "duration": 360,
    "start_time": "2025-03-04T06:53:13.145Z"
   },
   {
    "duration": 17,
    "start_time": "2025-03-04T06:53:28.211Z"
   },
   {
    "duration": 14,
    "start_time": "2025-03-04T06:53:28.385Z"
   },
   {
    "duration": 14,
    "start_time": "2025-03-04T06:53:49.888Z"
   },
   {
    "duration": 17,
    "start_time": "2025-03-04T06:53:54.678Z"
   },
   {
    "duration": 15,
    "start_time": "2025-03-04T06:53:55.184Z"
   },
   {
    "duration": 29,
    "start_time": "2025-03-04T06:54:07.089Z"
   },
   {
    "duration": 14,
    "start_time": "2025-03-04T06:54:08.736Z"
   },
   {
    "duration": 3,
    "start_time": "2025-03-04T06:54:51.352Z"
   },
   {
    "duration": 2,
    "start_time": "2025-03-04T06:54:51.963Z"
   },
   {
    "duration": 40,
    "start_time": "2025-03-04T06:54:52.701Z"
   },
   {
    "duration": 4,
    "start_time": "2025-03-04T06:54:53.227Z"
   },
   {
    "duration": 10,
    "start_time": "2025-03-04T06:54:53.259Z"
   },
   {
    "duration": 39,
    "start_time": "2025-03-04T06:54:53.295Z"
   },
   {
    "duration": 13,
    "start_time": "2025-03-04T06:54:53.337Z"
   },
   {
    "duration": 4,
    "start_time": "2025-03-04T06:54:53.354Z"
   },
   {
    "duration": 16,
    "start_time": "2025-03-04T06:54:53.383Z"
   },
   {
    "duration": 15,
    "start_time": "2025-03-04T06:54:53.570Z"
   },
   {
    "duration": 13,
    "start_time": "2025-03-04T06:54:53.604Z"
   },
   {
    "duration": 5,
    "start_time": "2025-03-04T06:54:53.630Z"
   },
   {
    "duration": 8,
    "start_time": "2025-03-04T06:54:53.694Z"
   },
   {
    "duration": 1105,
    "start_time": "2025-03-04T06:54:53.926Z"
   },
   {
    "duration": 19,
    "start_time": "2025-03-04T06:54:55.033Z"
   },
   {
    "duration": 4,
    "start_time": "2025-03-04T06:54:55.054Z"
   },
   {
    "duration": 6,
    "start_time": "2025-03-04T06:54:55.060Z"
   },
   {
    "duration": 7,
    "start_time": "2025-03-04T06:54:55.068Z"
   },
   {
    "duration": 337,
    "start_time": "2025-03-04T06:54:55.154Z"
   },
   {
    "duration": 8,
    "start_time": "2025-03-04T06:54:55.887Z"
   },
   {
    "duration": 13,
    "start_time": "2025-03-04T06:54:56.403Z"
   },
   {
    "duration": 16,
    "start_time": "2025-03-04T06:54:57.066Z"
   },
   {
    "duration": 18,
    "start_time": "2025-03-04T06:54:57.720Z"
   },
   {
    "duration": 5,
    "start_time": "2025-03-04T06:54:58.240Z"
   },
   {
    "duration": 8,
    "start_time": "2025-03-04T07:08:35.039Z"
   },
   {
    "duration": 13,
    "start_time": "2025-03-04T07:08:35.342Z"
   },
   {
    "duration": 15,
    "start_time": "2025-03-04T07:08:35.975Z"
   },
   {
    "duration": 15,
    "start_time": "2025-03-04T07:08:36.386Z"
   },
   {
    "duration": 2619,
    "start_time": "2025-03-05T04:40:58.178Z"
   },
   {
    "duration": 78,
    "start_time": "2025-03-05T04:41:00.800Z"
   },
   {
    "duration": 4,
    "start_time": "2025-03-05T04:41:00.880Z"
   },
   {
    "duration": 15,
    "start_time": "2025-03-05T04:41:00.886Z"
   },
   {
    "duration": 57,
    "start_time": "2025-03-05T04:41:00.904Z"
   },
   {
    "duration": 18,
    "start_time": "2025-03-05T04:41:00.965Z"
   },
   {
    "duration": 5,
    "start_time": "2025-03-05T04:41:00.985Z"
   },
   {
    "duration": 14,
    "start_time": "2025-03-05T04:41:00.992Z"
   },
   {
    "duration": 29,
    "start_time": "2025-03-05T04:41:01.009Z"
   },
   {
    "duration": 12,
    "start_time": "2025-03-05T04:41:01.040Z"
   },
   {
    "duration": 4,
    "start_time": "2025-03-05T04:41:01.054Z"
   },
   {
    "duration": 9,
    "start_time": "2025-03-05T04:41:01.060Z"
   },
   {
    "duration": 1201,
    "start_time": "2025-03-05T04:41:01.071Z"
   },
   {
    "duration": 18,
    "start_time": "2025-03-05T04:41:02.276Z"
   },
   {
    "duration": 4,
    "start_time": "2025-03-05T04:41:02.296Z"
   },
   {
    "duration": 5,
    "start_time": "2025-03-05T04:41:02.302Z"
   },
   {
    "duration": 27,
    "start_time": "2025-03-05T04:41:02.309Z"
   },
   {
    "duration": 414,
    "start_time": "2025-03-05T04:41:02.338Z"
   },
   {
    "duration": 8,
    "start_time": "2025-03-05T04:41:02.754Z"
   },
   {
    "duration": 12,
    "start_time": "2025-03-05T04:41:02.763Z"
   },
   {
    "duration": 14,
    "start_time": "2025-03-05T04:41:02.779Z"
   },
   {
    "duration": 17,
    "start_time": "2025-03-05T04:41:02.795Z"
   },
   {
    "duration": 5,
    "start_time": "2025-03-05T04:41:02.814Z"
   },
   {
    "duration": 180,
    "start_time": "2025-03-05T05:13:53.966Z"
   },
   {
    "duration": 2631,
    "start_time": "2025-03-05T05:13:59.062Z"
   },
   {
    "duration": 63,
    "start_time": "2025-03-05T05:14:01.695Z"
   },
   {
    "duration": 3,
    "start_time": "2025-03-05T05:14:01.760Z"
   },
   {
    "duration": 11,
    "start_time": "2025-03-05T05:14:01.765Z"
   },
   {
    "duration": 43,
    "start_time": "2025-03-05T05:14:01.777Z"
   },
   {
    "duration": 35,
    "start_time": "2025-03-05T05:14:01.821Z"
   },
   {
    "duration": 12,
    "start_time": "2025-03-05T05:14:01.857Z"
   },
   {
    "duration": 14,
    "start_time": "2025-03-05T05:14:01.870Z"
   },
   {
    "duration": 13,
    "start_time": "2025-03-05T05:14:01.886Z"
   },
   {
    "duration": 13,
    "start_time": "2025-03-05T05:14:01.904Z"
   },
   {
    "duration": 25,
    "start_time": "2025-03-05T05:14:01.919Z"
   },
   {
    "duration": 10,
    "start_time": "2025-03-05T05:14:01.945Z"
   },
   {
    "duration": 629,
    "start_time": "2025-03-05T05:14:01.956Z"
   },
   {
    "duration": 0,
    "start_time": "2025-03-05T05:14:02.587Z"
   },
   {
    "duration": 0,
    "start_time": "2025-03-05T05:14:02.589Z"
   },
   {
    "duration": 0,
    "start_time": "2025-03-05T05:14:02.590Z"
   },
   {
    "duration": 0,
    "start_time": "2025-03-05T05:14:02.592Z"
   },
   {
    "duration": 0,
    "start_time": "2025-03-05T05:14:02.593Z"
   },
   {
    "duration": 0,
    "start_time": "2025-03-05T05:14:02.594Z"
   },
   {
    "duration": 0,
    "start_time": "2025-03-05T05:14:02.595Z"
   },
   {
    "duration": 0,
    "start_time": "2025-03-05T05:14:02.596Z"
   },
   {
    "duration": 0,
    "start_time": "2025-03-05T05:14:02.597Z"
   },
   {
    "duration": 0,
    "start_time": "2025-03-05T05:14:02.598Z"
   },
   {
    "duration": 418,
    "start_time": "2025-03-05T05:15:40.616Z"
   },
   {
    "duration": 21,
    "start_time": "2025-03-05T05:16:38.312Z"
   },
   {
    "duration": 819,
    "start_time": "2025-03-05T05:16:56.254Z"
   },
   {
    "duration": 39,
    "start_time": "2025-03-05T05:16:57.076Z"
   },
   {
    "duration": 4,
    "start_time": "2025-03-05T05:16:57.116Z"
   },
   {
    "duration": 22,
    "start_time": "2025-03-05T05:16:57.122Z"
   },
   {
    "duration": 42,
    "start_time": "2025-03-05T05:16:57.146Z"
   },
   {
    "duration": 15,
    "start_time": "2025-03-05T05:16:57.189Z"
   },
   {
    "duration": 5,
    "start_time": "2025-03-05T05:16:57.205Z"
   },
   {
    "duration": 33,
    "start_time": "2025-03-05T05:16:57.212Z"
   },
   {
    "duration": 13,
    "start_time": "2025-03-05T05:16:57.248Z"
   },
   {
    "duration": 12,
    "start_time": "2025-03-05T05:16:57.263Z"
   },
   {
    "duration": 6,
    "start_time": "2025-03-05T05:16:57.277Z"
   },
   {
    "duration": 9,
    "start_time": "2025-03-05T05:16:57.284Z"
   },
   {
    "duration": 294,
    "start_time": "2025-03-05T05:16:57.295Z"
   },
   {
    "duration": 0,
    "start_time": "2025-03-05T05:16:57.591Z"
   },
   {
    "duration": 0,
    "start_time": "2025-03-05T05:16:57.593Z"
   },
   {
    "duration": 0,
    "start_time": "2025-03-05T05:16:57.594Z"
   },
   {
    "duration": 0,
    "start_time": "2025-03-05T05:16:57.596Z"
   },
   {
    "duration": 0,
    "start_time": "2025-03-05T05:16:57.597Z"
   },
   {
    "duration": 0,
    "start_time": "2025-03-05T05:16:57.599Z"
   },
   {
    "duration": 0,
    "start_time": "2025-03-05T05:16:57.599Z"
   },
   {
    "duration": 0,
    "start_time": "2025-03-05T05:16:57.600Z"
   },
   {
    "duration": 0,
    "start_time": "2025-03-05T05:16:57.601Z"
   },
   {
    "duration": 0,
    "start_time": "2025-03-05T05:16:57.602Z"
   },
   {
    "duration": 0,
    "start_time": "2025-03-05T05:16:57.603Z"
   },
   {
    "duration": 1103,
    "start_time": "2025-03-05T05:17:22.953Z"
   },
   {
    "duration": 17,
    "start_time": "2025-03-05T05:20:06.913Z"
   },
   {
    "duration": 20,
    "start_time": "2025-03-05T05:21:39.343Z"
   },
   {
    "duration": 537,
    "start_time": "2025-03-05T05:23:40.337Z"
   },
   {
    "duration": 448,
    "start_time": "2025-03-05T05:28:24.753Z"
   },
   {
    "duration": 312,
    "start_time": "2025-03-05T05:47:11.310Z"
   },
   {
    "duration": 15,
    "start_time": "2025-03-05T05:47:36.367Z"
   },
   {
    "duration": 553,
    "start_time": "2025-03-05T05:48:03.986Z"
   },
   {
    "duration": 15,
    "start_time": "2025-03-05T05:48:45.563Z"
   },
   {
    "duration": 554,
    "start_time": "2025-03-05T05:48:46.097Z"
   },
   {
    "duration": 486,
    "start_time": "2025-03-05T05:48:46.653Z"
   },
   {
    "duration": 10,
    "start_time": "2025-03-05T05:48:47.175Z"
   },
   {
    "duration": 1502,
    "start_time": "2025-03-05T05:48:47.602Z"
   },
   {
    "duration": 9,
    "start_time": "2025-03-05T05:48:49.106Z"
   },
   {
    "duration": 333,
    "start_time": "2025-03-05T06:09:23.572Z"
   },
   {
    "duration": 118,
    "start_time": "2025-03-05T06:14:18.187Z"
   },
   {
    "duration": 117,
    "start_time": "2025-03-05T06:14:42.971Z"
   },
   {
    "duration": 15,
    "start_time": "2025-03-05T06:15:36.058Z"
   },
   {
    "duration": 12,
    "start_time": "2025-03-05T06:15:37.118Z"
   },
   {
    "duration": 6,
    "start_time": "2025-03-05T06:15:37.549Z"
   },
   {
    "duration": 5,
    "start_time": "2025-03-05T06:15:41.920Z"
   },
   {
    "duration": 8,
    "start_time": "2025-03-05T06:15:45.450Z"
   },
   {
    "duration": 337,
    "start_time": "2025-03-05T06:15:46.318Z"
   },
   {
    "duration": 110,
    "start_time": "2025-03-05T06:16:17.451Z"
   },
   {
    "duration": 108,
    "start_time": "2025-03-05T06:16:26.701Z"
   },
   {
    "duration": 370,
    "start_time": "2025-03-05T06:22:10.857Z"
   },
   {
    "duration": 8,
    "start_time": "2025-03-05T06:22:50.409Z"
   },
   {
    "duration": 4,
    "start_time": "2025-03-05T06:22:57.403Z"
   },
   {
    "duration": 332,
    "start_time": "2025-03-05T06:23:03.776Z"
   },
   {
    "duration": 478,
    "start_time": "2025-03-05T06:25:10.091Z"
   },
   {
    "duration": 322,
    "start_time": "2025-03-05T06:25:38.198Z"
   },
   {
    "duration": 110,
    "start_time": "2025-03-05T06:45:41.457Z"
   },
   {
    "duration": 18,
    "start_time": "2025-03-05T06:52:41.397Z"
   },
   {
    "duration": 5,
    "start_time": "2025-03-05T06:52:42.146Z"
   },
   {
    "duration": 6,
    "start_time": "2025-03-05T06:52:42.584Z"
   },
   {
    "duration": 8,
    "start_time": "2025-03-05T06:52:42.885Z"
   },
   {
    "duration": 405,
    "start_time": "2025-03-05T06:52:43.522Z"
   },
   {
    "duration": 8,
    "start_time": "2025-03-05T06:52:51.448Z"
   },
   {
    "duration": 13,
    "start_time": "2025-03-05T06:52:52.130Z"
   },
   {
    "duration": 1368,
    "start_time": "2025-03-05T07:09:33.630Z"
   },
   {
    "duration": 1475,
    "start_time": "2025-03-05T07:27:01.126Z"
   },
   {
    "duration": 307,
    "start_time": "2025-03-05T07:34:12.966Z"
   },
   {
    "duration": 7,
    "start_time": "2025-03-05T07:42:04.526Z"
   },
   {
    "duration": 13,
    "start_time": "2025-03-05T07:42:07.727Z"
   },
   {
    "duration": 7,
    "start_time": "2025-03-05T07:42:09.098Z"
   },
   {
    "duration": 366,
    "start_time": "2025-03-05T07:42:09.603Z"
   },
   {
    "duration": 367,
    "start_time": "2025-03-05T07:42:10.333Z"
   },
   {
    "duration": 12,
    "start_time": "2025-03-05T07:44:22.388Z"
   },
   {
    "duration": 6,
    "start_time": "2025-03-05T07:46:31.177Z"
   },
   {
    "duration": 5,
    "start_time": "2025-03-05T07:47:10.539Z"
   },
   {
    "duration": 5,
    "start_time": "2025-03-05T07:47:31.817Z"
   },
   {
    "duration": 4,
    "start_time": "2025-03-05T07:47:39.935Z"
   },
   {
    "duration": 4,
    "start_time": "2025-03-05T07:47:48.386Z"
   },
   {
    "duration": 137,
    "start_time": "2025-03-05T07:49:17.592Z"
   },
   {
    "duration": 12,
    "start_time": "2025-03-05T07:49:21.357Z"
   },
   {
    "duration": 13,
    "start_time": "2025-03-05T07:49:51.842Z"
   },
   {
    "duration": 12,
    "start_time": "2025-03-05T07:50:06.018Z"
   },
   {
    "duration": 13,
    "start_time": "2025-03-05T07:50:22.255Z"
   },
   {
    "duration": 19,
    "start_time": "2025-03-05T07:51:34.207Z"
   },
   {
    "duration": 13,
    "start_time": "2025-03-05T07:51:50.664Z"
   },
   {
    "duration": 13,
    "start_time": "2025-03-05T07:53:05.816Z"
   },
   {
    "duration": 11,
    "start_time": "2025-03-05T07:53:13.361Z"
   },
   {
    "duration": 6,
    "start_time": "2025-03-05T07:54:00.992Z"
   },
   {
    "duration": 394,
    "start_time": "2025-03-05T07:54:01.633Z"
   },
   {
    "duration": 2746,
    "start_time": "2025-03-19T18:57:35.124Z"
   },
   {
    "duration": 72,
    "start_time": "2025-03-19T18:57:37.873Z"
   },
   {
    "duration": 3,
    "start_time": "2025-03-19T18:57:37.946Z"
   },
   {
    "duration": 10,
    "start_time": "2025-03-19T18:57:37.951Z"
   },
   {
    "duration": 54,
    "start_time": "2025-03-19T18:57:37.964Z"
   },
   {
    "duration": 16,
    "start_time": "2025-03-19T18:57:38.020Z"
   },
   {
    "duration": 6,
    "start_time": "2025-03-19T18:57:38.038Z"
   },
   {
    "duration": 15,
    "start_time": "2025-03-19T18:57:38.045Z"
   },
   {
    "duration": 14,
    "start_time": "2025-03-19T18:57:38.061Z"
   },
   {
    "duration": 37,
    "start_time": "2025-03-19T18:57:38.076Z"
   },
   {
    "duration": 5,
    "start_time": "2025-03-19T18:57:38.114Z"
   },
   {
    "duration": 9,
    "start_time": "2025-03-19T18:57:38.121Z"
   },
   {
    "duration": 245,
    "start_time": "2025-03-19T18:57:38.132Z"
   },
   {
    "duration": 0,
    "start_time": "2025-03-19T18:57:38.380Z"
   },
   {
    "duration": 0,
    "start_time": "2025-03-19T18:57:38.381Z"
   },
   {
    "duration": 0,
    "start_time": "2025-03-19T18:57:38.383Z"
   },
   {
    "duration": 0,
    "start_time": "2025-03-19T18:57:38.384Z"
   },
   {
    "duration": 0,
    "start_time": "2025-03-19T18:57:38.386Z"
   },
   {
    "duration": 0,
    "start_time": "2025-03-19T18:57:38.387Z"
   },
   {
    "duration": 0,
    "start_time": "2025-03-19T18:57:38.388Z"
   },
   {
    "duration": 0,
    "start_time": "2025-03-19T18:57:38.388Z"
   },
   {
    "duration": 0,
    "start_time": "2025-03-19T18:57:38.389Z"
   },
   {
    "duration": 0,
    "start_time": "2025-03-19T18:57:38.390Z"
   },
   {
    "duration": 0,
    "start_time": "2025-03-19T18:57:38.391Z"
   },
   {
    "duration": 1,
    "start_time": "2025-03-19T18:57:38.391Z"
   },
   {
    "duration": 0,
    "start_time": "2025-03-19T18:57:38.409Z"
   },
   {
    "duration": 0,
    "start_time": "2025-03-19T18:57:38.410Z"
   },
   {
    "duration": 0,
    "start_time": "2025-03-19T18:57:38.412Z"
   },
   {
    "duration": 851,
    "start_time": "2025-03-19T18:58:43.958Z"
   },
   {
    "duration": 44,
    "start_time": "2025-03-19T18:58:44.812Z"
   },
   {
    "duration": 3,
    "start_time": "2025-03-19T18:58:44.858Z"
   },
   {
    "duration": 9,
    "start_time": "2025-03-19T18:58:44.865Z"
   },
   {
    "duration": 55,
    "start_time": "2025-03-19T18:58:44.876Z"
   },
   {
    "duration": 16,
    "start_time": "2025-03-19T18:58:44.932Z"
   },
   {
    "duration": 5,
    "start_time": "2025-03-19T18:58:44.950Z"
   },
   {
    "duration": 17,
    "start_time": "2025-03-19T18:58:44.957Z"
   },
   {
    "duration": 39,
    "start_time": "2025-03-19T18:58:44.975Z"
   },
   {
    "duration": 11,
    "start_time": "2025-03-19T18:58:45.017Z"
   },
   {
    "duration": 6,
    "start_time": "2025-03-19T18:58:45.030Z"
   },
   {
    "duration": 10,
    "start_time": "2025-03-19T18:58:45.037Z"
   },
   {
    "duration": 309,
    "start_time": "2025-03-19T18:58:45.048Z"
   },
   {
    "duration": 1,
    "start_time": "2025-03-19T18:58:45.358Z"
   },
   {
    "duration": 0,
    "start_time": "2025-03-19T18:58:45.360Z"
   },
   {
    "duration": 0,
    "start_time": "2025-03-19T18:58:45.361Z"
   },
   {
    "duration": 0,
    "start_time": "2025-03-19T18:58:45.362Z"
   },
   {
    "duration": 0,
    "start_time": "2025-03-19T18:58:45.363Z"
   },
   {
    "duration": 0,
    "start_time": "2025-03-19T18:58:45.364Z"
   },
   {
    "duration": 0,
    "start_time": "2025-03-19T18:58:45.365Z"
   },
   {
    "duration": 0,
    "start_time": "2025-03-19T18:58:45.366Z"
   },
   {
    "duration": 0,
    "start_time": "2025-03-19T18:58:45.367Z"
   },
   {
    "duration": 0,
    "start_time": "2025-03-19T18:58:45.368Z"
   },
   {
    "duration": 0,
    "start_time": "2025-03-19T18:58:45.370Z"
   },
   {
    "duration": 0,
    "start_time": "2025-03-19T18:58:45.372Z"
   },
   {
    "duration": 0,
    "start_time": "2025-03-19T18:58:45.373Z"
   },
   {
    "duration": 0,
    "start_time": "2025-03-19T18:58:45.374Z"
   },
   {
    "duration": 0,
    "start_time": "2025-03-19T18:58:45.375Z"
   },
   {
    "duration": 851,
    "start_time": "2025-03-19T18:58:49.879Z"
   },
   {
    "duration": 46,
    "start_time": "2025-03-19T18:58:50.732Z"
   },
   {
    "duration": 4,
    "start_time": "2025-03-19T18:58:50.780Z"
   },
   {
    "duration": 27,
    "start_time": "2025-03-19T18:58:50.787Z"
   },
   {
    "duration": 43,
    "start_time": "2025-03-19T18:58:50.816Z"
   },
   {
    "duration": 16,
    "start_time": "2025-03-19T18:58:50.861Z"
   },
   {
    "duration": 5,
    "start_time": "2025-03-19T18:58:50.879Z"
   },
   {
    "duration": 35,
    "start_time": "2025-03-19T18:58:50.886Z"
   },
   {
    "duration": 14,
    "start_time": "2025-03-19T18:58:50.922Z"
   },
   {
    "duration": 11,
    "start_time": "2025-03-19T18:58:50.938Z"
   },
   {
    "duration": 5,
    "start_time": "2025-03-19T18:58:50.951Z"
   },
   {
    "duration": 10,
    "start_time": "2025-03-19T18:58:50.957Z"
   },
   {
    "duration": 302,
    "start_time": "2025-03-19T18:58:50.969Z"
   },
   {
    "duration": 0,
    "start_time": "2025-03-19T18:58:51.273Z"
   },
   {
    "duration": 0,
    "start_time": "2025-03-19T18:58:51.275Z"
   },
   {
    "duration": 0,
    "start_time": "2025-03-19T18:58:51.276Z"
   },
   {
    "duration": 0,
    "start_time": "2025-03-19T18:58:51.277Z"
   },
   {
    "duration": 0,
    "start_time": "2025-03-19T18:58:51.278Z"
   },
   {
    "duration": 0,
    "start_time": "2025-03-19T18:58:51.279Z"
   },
   {
    "duration": 0,
    "start_time": "2025-03-19T18:58:51.280Z"
   },
   {
    "duration": 0,
    "start_time": "2025-03-19T18:58:51.282Z"
   },
   {
    "duration": 0,
    "start_time": "2025-03-19T18:58:51.284Z"
   },
   {
    "duration": 0,
    "start_time": "2025-03-19T18:58:51.285Z"
   },
   {
    "duration": 0,
    "start_time": "2025-03-19T18:58:51.309Z"
   },
   {
    "duration": 0,
    "start_time": "2025-03-19T18:58:51.311Z"
   },
   {
    "duration": 0,
    "start_time": "2025-03-19T18:58:51.313Z"
   },
   {
    "duration": 0,
    "start_time": "2025-03-19T18:58:51.314Z"
   },
   {
    "duration": 0,
    "start_time": "2025-03-19T18:58:51.316Z"
   },
   {
    "duration": 4,
    "start_time": "2025-03-19T19:00:39.549Z"
   },
   {
    "duration": 1065,
    "start_time": "2025-03-19T19:00:48.757Z"
   },
   {
    "duration": 54,
    "start_time": "2025-03-19T19:00:49.825Z"
   },
   {
    "duration": 4,
    "start_time": "2025-03-19T19:00:49.881Z"
   },
   {
    "duration": 25,
    "start_time": "2025-03-19T19:00:49.887Z"
   },
   {
    "duration": 46,
    "start_time": "2025-03-19T19:00:49.915Z"
   },
   {
    "duration": 17,
    "start_time": "2025-03-19T19:00:49.963Z"
   },
   {
    "duration": 27,
    "start_time": "2025-03-19T19:00:49.982Z"
   },
   {
    "duration": 15,
    "start_time": "2025-03-19T19:00:50.011Z"
   },
   {
    "duration": 17,
    "start_time": "2025-03-19T19:00:50.028Z"
   },
   {
    "duration": 14,
    "start_time": "2025-03-19T19:00:50.046Z"
   },
   {
    "duration": 5,
    "start_time": "2025-03-19T19:00:50.061Z"
   },
   {
    "duration": 10,
    "start_time": "2025-03-19T19:00:50.070Z"
   },
   {
    "duration": 432,
    "start_time": "2025-03-19T19:00:50.082Z"
   },
   {
    "duration": 131,
    "start_time": "2025-03-19T19:00:50.518Z"
   },
   {
    "duration": 8,
    "start_time": "2025-03-19T19:00:50.651Z"
   },
   {
    "duration": 15,
    "start_time": "2025-03-19T19:00:50.660Z"
   },
   {
    "duration": 243,
    "start_time": "2025-03-19T19:00:50.676Z"
   },
   {
    "duration": 0,
    "start_time": "2025-03-19T19:00:50.921Z"
   },
   {
    "duration": 1,
    "start_time": "2025-03-19T19:00:50.922Z"
   },
   {
    "duration": 0,
    "start_time": "2025-03-19T19:00:50.924Z"
   },
   {
    "duration": 0,
    "start_time": "2025-03-19T19:00:50.925Z"
   },
   {
    "duration": 0,
    "start_time": "2025-03-19T19:00:50.927Z"
   },
   {
    "duration": 0,
    "start_time": "2025-03-19T19:00:50.928Z"
   },
   {
    "duration": 0,
    "start_time": "2025-03-19T19:00:50.929Z"
   },
   {
    "duration": 0,
    "start_time": "2025-03-19T19:00:50.930Z"
   },
   {
    "duration": 0,
    "start_time": "2025-03-19T19:00:50.931Z"
   },
   {
    "duration": 0,
    "start_time": "2025-03-19T19:00:50.932Z"
   },
   {
    "duration": 0,
    "start_time": "2025-03-19T19:00:50.933Z"
   },
   {
    "duration": 19,
    "start_time": "2025-03-19T19:01:19.643Z"
   },
   {
    "duration": 20,
    "start_time": "2025-03-19T19:01:27.849Z"
   },
   {
    "duration": 15,
    "start_time": "2025-03-19T19:02:14.530Z"
   },
   {
    "duration": 14,
    "start_time": "2025-03-19T19:02:15.258Z"
   },
   {
    "duration": 5,
    "start_time": "2025-03-19T19:02:16.046Z"
   },
   {
    "duration": 10,
    "start_time": "2025-03-19T19:02:17.384Z"
   },
   {
    "duration": 355,
    "start_time": "2025-03-19T19:02:18.364Z"
   },
   {
    "duration": 354,
    "start_time": "2025-03-19T19:02:22.791Z"
   },
   {
    "duration": 112,
    "start_time": "2025-03-19T19:02:23.612Z"
   },
   {
    "duration": 9,
    "start_time": "2025-03-19T19:02:24.863Z"
   },
   {
    "duration": 15,
    "start_time": "2025-03-19T19:02:25.161Z"
   },
   {
    "duration": 18,
    "start_time": "2025-03-19T19:02:25.587Z"
   },
   {
    "duration": 17,
    "start_time": "2025-03-19T19:02:31.222Z"
   },
   {
    "duration": 14,
    "start_time": "2025-03-19T19:02:56.227Z"
   },
   {
    "duration": 8,
    "start_time": "2025-03-19T19:03:19.195Z"
   },
   {
    "duration": 15,
    "start_time": "2025-03-19T19:03:35.567Z"
   },
   {
    "duration": 17,
    "start_time": "2025-03-19T19:03:52.139Z"
   },
   {
    "duration": 12,
    "start_time": "2025-03-19T19:04:11.590Z"
   },
   {
    "duration": 16,
    "start_time": "2025-03-19T19:04:34.296Z"
   },
   {
    "duration": 17,
    "start_time": "2025-03-19T19:04:45.446Z"
   },
   {
    "duration": 7,
    "start_time": "2025-03-19T19:05:34.886Z"
   },
   {
    "duration": 388,
    "start_time": "2025-03-19T19:05:35.425Z"
   },
   {
    "duration": 320,
    "start_time": "2025-03-19T19:05:36.263Z"
   },
   {
    "duration": 22,
    "start_time": "2025-03-19T19:05:38.520Z"
   },
   {
    "duration": 431,
    "start_time": "2025-03-19T19:05:39.358Z"
   },
   {
    "duration": 5,
    "start_time": "2025-03-19T19:05:39.791Z"
   },
   {
    "duration": 15,
    "start_time": "2025-03-19T19:05:39.798Z"
   },
   {
    "duration": 8,
    "start_time": "2025-03-19T19:05:39.815Z"
   },
   {
    "duration": 17,
    "start_time": "2025-03-19T19:05:41.375Z"
   },
   {
    "duration": 19,
    "start_time": "2025-03-19T19:05:42.376Z"
   },
   {
    "duration": 5,
    "start_time": "2025-03-19T19:05:42.716Z"
   },
   {
    "duration": 16,
    "start_time": "2025-03-19T19:06:08.720Z"
   },
   {
    "duration": 6,
    "start_time": "2025-03-19T19:06:10.139Z"
   },
   {
    "duration": 886,
    "start_time": "2025-03-19T19:06:14.627Z"
   },
   {
    "duration": 41,
    "start_time": "2025-03-19T19:06:15.515Z"
   },
   {
    "duration": 3,
    "start_time": "2025-03-19T19:06:15.558Z"
   },
   {
    "duration": 13,
    "start_time": "2025-03-19T19:06:15.563Z"
   },
   {
    "duration": 62,
    "start_time": "2025-03-19T19:06:15.579Z"
   },
   {
    "duration": 16,
    "start_time": "2025-03-19T19:06:15.642Z"
   },
   {
    "duration": 5,
    "start_time": "2025-03-19T19:06:15.660Z"
   },
   {
    "duration": 15,
    "start_time": "2025-03-19T19:06:15.667Z"
   },
   {
    "duration": 35,
    "start_time": "2025-03-19T19:06:15.685Z"
   },
   {
    "duration": 13,
    "start_time": "2025-03-19T19:06:15.721Z"
   },
   {
    "duration": 4,
    "start_time": "2025-03-19T19:06:15.735Z"
   },
   {
    "duration": 11,
    "start_time": "2025-03-19T19:06:15.741Z"
   },
   {
    "duration": 366,
    "start_time": "2025-03-19T19:06:15.753Z"
   },
   {
    "duration": 120,
    "start_time": "2025-03-19T19:06:16.123Z"
   },
   {
    "duration": 8,
    "start_time": "2025-03-19T19:06:16.246Z"
   },
   {
    "duration": 13,
    "start_time": "2025-03-19T19:06:16.255Z"
   },
   {
    "duration": 16,
    "start_time": "2025-03-19T19:06:16.269Z"
   },
   {
    "duration": 210,
    "start_time": "2025-03-19T19:06:16.309Z"
   },
   {
    "duration": 0,
    "start_time": "2025-03-19T19:06:16.521Z"
   },
   {
    "duration": 0,
    "start_time": "2025-03-19T19:06:16.523Z"
   },
   {
    "duration": 0,
    "start_time": "2025-03-19T19:06:16.524Z"
   },
   {
    "duration": 0,
    "start_time": "2025-03-19T19:06:16.526Z"
   },
   {
    "duration": 0,
    "start_time": "2025-03-19T19:06:16.528Z"
   },
   {
    "duration": 0,
    "start_time": "2025-03-19T19:06:16.529Z"
   },
   {
    "duration": 0,
    "start_time": "2025-03-19T19:06:16.530Z"
   },
   {
    "duration": 0,
    "start_time": "2025-03-19T19:06:16.531Z"
   },
   {
    "duration": 0,
    "start_time": "2025-03-19T19:06:16.532Z"
   },
   {
    "duration": 0,
    "start_time": "2025-03-19T19:06:16.533Z"
   },
   {
    "duration": 0,
    "start_time": "2025-03-19T19:06:16.534Z"
   },
   {
    "duration": 15,
    "start_time": "2025-03-19T19:07:07.538Z"
   },
   {
    "duration": 15,
    "start_time": "2025-03-19T19:07:08.576Z"
   },
   {
    "duration": 12,
    "start_time": "2025-03-19T19:07:22.810Z"
   },
   {
    "duration": 8,
    "start_time": "2025-03-19T19:07:30.454Z"
   },
   {
    "duration": 425,
    "start_time": "2025-03-19T19:07:31.892Z"
   },
   {
    "duration": 364,
    "start_time": "2025-03-19T19:07:32.510Z"
   },
   {
    "duration": 18,
    "start_time": "2025-03-19T19:07:37.829Z"
   },
   {
    "duration": 393,
    "start_time": "2025-03-19T19:07:38.439Z"
   },
   {
    "duration": 3,
    "start_time": "2025-03-19T19:07:38.845Z"
   },
   {
    "duration": 6,
    "start_time": "2025-03-19T19:07:39.161Z"
   },
   {
    "duration": 9,
    "start_time": "2025-03-19T19:07:39.501Z"
   },
   {
    "duration": 16,
    "start_time": "2025-03-19T19:07:41.276Z"
   },
   {
    "duration": 18,
    "start_time": "2025-03-19T19:07:42.392Z"
   },
   {
    "duration": 5,
    "start_time": "2025-03-19T19:07:42.429Z"
   },
   {
    "duration": 132,
    "start_time": "2025-03-19T19:15:02.315Z"
   },
   {
    "duration": 145,
    "start_time": "2025-03-19T19:18:55.860Z"
   },
   {
    "duration": 514,
    "start_time": "2025-03-19T19:22:48.220Z"
   },
   {
    "duration": 27,
    "start_time": "2025-03-19T19:26:04.014Z"
   },
   {
    "duration": 523,
    "start_time": "2025-03-19T19:27:42.345Z"
   },
   {
    "duration": 550,
    "start_time": "2025-03-19T19:30:29.651Z"
   },
   {
    "duration": 82,
    "start_time": "2025-03-19T19:32:17.261Z"
   },
   {
    "duration": 50,
    "start_time": "2025-03-19T19:33:07.084Z"
   },
   {
    "duration": 161,
    "start_time": "2025-03-22T02:09:00.532Z"
   },
   {
    "duration": 17,
    "start_time": "2025-03-22T02:09:06.711Z"
   },
   {
    "duration": 2508,
    "start_time": "2025-03-22T02:09:10.582Z"
   },
   {
    "duration": 67,
    "start_time": "2025-03-22T02:09:13.092Z"
   },
   {
    "duration": 3,
    "start_time": "2025-03-22T02:09:13.160Z"
   },
   {
    "duration": 10,
    "start_time": "2025-03-22T02:09:13.165Z"
   },
   {
    "duration": 41,
    "start_time": "2025-03-22T02:09:13.178Z"
   },
   {
    "duration": 24,
    "start_time": "2025-03-22T02:09:13.221Z"
   },
   {
    "duration": 5,
    "start_time": "2025-03-22T02:09:13.246Z"
   },
   {
    "duration": 15,
    "start_time": "2025-03-22T02:09:13.253Z"
   },
   {
    "duration": 14,
    "start_time": "2025-03-22T02:09:13.269Z"
   },
   {
    "duration": 11,
    "start_time": "2025-03-22T02:09:13.284Z"
   },
   {
    "duration": 4,
    "start_time": "2025-03-22T02:09:13.297Z"
   },
   {
    "duration": 42,
    "start_time": "2025-03-22T02:09:13.303Z"
   },
   {
    "duration": 385,
    "start_time": "2025-03-22T02:09:13.346Z"
   },
   {
    "duration": 117,
    "start_time": "2025-03-22T02:09:13.735Z"
   },
   {
    "duration": 7,
    "start_time": "2025-03-22T02:09:13.854Z"
   },
   {
    "duration": 13,
    "start_time": "2025-03-22T02:09:13.863Z"
   },
   {
    "duration": 15,
    "start_time": "2025-03-22T02:09:13.877Z"
   },
   {
    "duration": 11,
    "start_time": "2025-03-22T02:09:13.894Z"
   },
   {
    "duration": 38,
    "start_time": "2025-03-22T02:09:13.907Z"
   },
   {
    "duration": 408,
    "start_time": "2025-03-22T02:09:13.947Z"
   },
   {
    "duration": 357,
    "start_time": "2025-03-22T02:09:14.357Z"
   },
   {
    "duration": 42,
    "start_time": "2025-03-22T02:09:14.716Z"
   },
   {
    "duration": 3,
    "start_time": "2025-03-22T02:09:14.760Z"
   },
   {
    "duration": 16,
    "start_time": "2025-03-22T02:09:14.766Z"
   },
   {
    "duration": 4,
    "start_time": "2025-03-22T02:09:14.784Z"
   },
   {
    "duration": 188,
    "start_time": "2025-03-25T22:40:59.039Z"
   },
   {
    "duration": 2577,
    "start_time": "2025-03-25T22:41:04.531Z"
   },
   {
    "duration": 79,
    "start_time": "2025-03-25T22:41:07.110Z"
   },
   {
    "duration": 3,
    "start_time": "2025-03-25T22:41:07.191Z"
   },
   {
    "duration": 10,
    "start_time": "2025-03-25T22:41:07.196Z"
   },
   {
    "duration": 45,
    "start_time": "2025-03-25T22:41:07.209Z"
   },
   {
    "duration": 25,
    "start_time": "2025-03-25T22:41:07.255Z"
   },
   {
    "duration": 6,
    "start_time": "2025-03-25T22:41:07.281Z"
   },
   {
    "duration": 18,
    "start_time": "2025-03-25T22:41:07.288Z"
   },
   {
    "duration": 13,
    "start_time": "2025-03-25T22:41:07.307Z"
   },
   {
    "duration": 11,
    "start_time": "2025-03-25T22:41:07.322Z"
   },
   {
    "duration": 4,
    "start_time": "2025-03-25T22:41:07.335Z"
   },
   {
    "duration": 9,
    "start_time": "2025-03-25T22:41:07.370Z"
   },
   {
    "duration": 402,
    "start_time": "2025-03-25T22:41:07.381Z"
   },
   {
    "duration": 122,
    "start_time": "2025-03-25T22:41:07.787Z"
   },
   {
    "duration": 8,
    "start_time": "2025-03-25T22:41:07.911Z"
   },
   {
    "duration": 13,
    "start_time": "2025-03-25T22:41:07.920Z"
   },
   {
    "duration": 36,
    "start_time": "2025-03-25T22:41:07.935Z"
   },
   {
    "duration": 11,
    "start_time": "2025-03-25T22:41:07.973Z"
   },
   {
    "duration": 7,
    "start_time": "2025-03-25T22:41:07.985Z"
   },
   {
    "duration": 396,
    "start_time": "2025-03-25T22:41:07.994Z"
   },
   {
    "duration": 363,
    "start_time": "2025-03-25T22:41:08.393Z"
   },
   {
    "duration": 37,
    "start_time": "2025-03-25T22:41:08.759Z"
   },
   {
    "duration": 3,
    "start_time": "2025-03-25T22:41:08.798Z"
   },
   {
    "duration": 16,
    "start_time": "2025-03-25T22:41:08.804Z"
   },
   {
    "duration": 4,
    "start_time": "2025-03-25T22:41:08.822Z"
   },
   {
    "duration": 159,
    "start_time": "2025-03-29T00:13:25.068Z"
   },
   {
    "duration": 2585,
    "start_time": "2025-03-29T00:13:28.853Z"
   },
   {
    "duration": 77,
    "start_time": "2025-03-29T00:13:31.440Z"
   },
   {
    "duration": 4,
    "start_time": "2025-03-29T00:13:31.518Z"
   },
   {
    "duration": 12,
    "start_time": "2025-03-29T00:13:31.523Z"
   },
   {
    "duration": 46,
    "start_time": "2025-03-29T00:13:31.538Z"
   },
   {
    "duration": 30,
    "start_time": "2025-03-29T00:13:31.587Z"
   },
   {
    "duration": 5,
    "start_time": "2025-03-29T00:13:31.618Z"
   },
   {
    "duration": 14,
    "start_time": "2025-03-29T00:13:31.624Z"
   },
   {
    "duration": 660,
    "start_time": "2025-03-29T00:13:31.640Z"
   },
   {
    "duration": 0,
    "start_time": "2025-03-29T00:13:32.305Z"
   },
   {
    "duration": 0,
    "start_time": "2025-03-29T00:13:32.306Z"
   },
   {
    "duration": 0,
    "start_time": "2025-03-29T00:13:32.308Z"
   },
   {
    "duration": 0,
    "start_time": "2025-03-29T00:13:32.309Z"
   },
   {
    "duration": 0,
    "start_time": "2025-03-29T00:13:32.310Z"
   },
   {
    "duration": 0,
    "start_time": "2025-03-29T00:13:32.311Z"
   },
   {
    "duration": 0,
    "start_time": "2025-03-29T00:13:32.312Z"
   },
   {
    "duration": 0,
    "start_time": "2025-03-29T00:13:32.313Z"
   },
   {
    "duration": 0,
    "start_time": "2025-03-29T00:13:32.315Z"
   },
   {
    "duration": 0,
    "start_time": "2025-03-29T00:13:32.316Z"
   },
   {
    "duration": 0,
    "start_time": "2025-03-29T00:13:32.317Z"
   },
   {
    "duration": 0,
    "start_time": "2025-03-29T00:13:32.318Z"
   },
   {
    "duration": 0,
    "start_time": "2025-03-29T00:13:32.319Z"
   },
   {
    "duration": 0,
    "start_time": "2025-03-29T00:13:32.320Z"
   },
   {
    "duration": 0,
    "start_time": "2025-03-29T00:13:32.322Z"
   },
   {
    "duration": 0,
    "start_time": "2025-03-29T00:13:32.323Z"
   },
   {
    "duration": 0,
    "start_time": "2025-03-29T00:13:32.324Z"
   },
   {
    "duration": 6,
    "start_time": "2025-03-29T00:13:39.349Z"
   },
   {
    "duration": 4,
    "start_time": "2025-03-29T00:13:55.000Z"
   },
   {
    "duration": 17,
    "start_time": "2025-03-29T00:14:13.968Z"
   },
   {
    "duration": 17,
    "start_time": "2025-03-29T00:14:20.907Z"
   },
   {
    "duration": 6,
    "start_time": "2025-03-29T00:14:31.722Z"
   },
   {
    "duration": 20,
    "start_time": "2025-03-29T00:15:08.792Z"
   },
   {
    "duration": 858,
    "start_time": "2025-03-29T00:15:12.947Z"
   },
   {
    "duration": 44,
    "start_time": "2025-03-29T00:15:13.808Z"
   },
   {
    "duration": 4,
    "start_time": "2025-03-29T00:15:13.854Z"
   },
   {
    "duration": 13,
    "start_time": "2025-03-29T00:15:13.860Z"
   },
   {
    "duration": 66,
    "start_time": "2025-03-29T00:15:13.876Z"
   },
   {
    "duration": 17,
    "start_time": "2025-03-29T00:15:13.944Z"
   },
   {
    "duration": 5,
    "start_time": "2025-03-29T00:15:13.963Z"
   },
   {
    "duration": 37,
    "start_time": "2025-03-29T00:15:13.970Z"
   },
   {
    "duration": 15,
    "start_time": "2025-03-29T00:15:14.009Z"
   },
   {
    "duration": 13,
    "start_time": "2025-03-29T00:15:14.025Z"
   },
   {
    "duration": 5,
    "start_time": "2025-03-29T00:15:14.040Z"
   },
   {
    "duration": 9,
    "start_time": "2025-03-29T00:15:14.047Z"
   },
   {
    "duration": 428,
    "start_time": "2025-03-29T00:15:14.058Z"
   },
   {
    "duration": 130,
    "start_time": "2025-03-29T00:15:14.489Z"
   },
   {
    "duration": 8,
    "start_time": "2025-03-29T00:15:14.621Z"
   },
   {
    "duration": 14,
    "start_time": "2025-03-29T00:15:14.631Z"
   },
   {
    "duration": 16,
    "start_time": "2025-03-29T00:15:14.647Z"
   },
   {
    "duration": 13,
    "start_time": "2025-03-29T00:15:14.664Z"
   },
   {
    "duration": 9,
    "start_time": "2025-03-29T00:15:14.705Z"
   },
   {
    "duration": 499,
    "start_time": "2025-03-29T00:15:14.715Z"
   },
   {
    "duration": 364,
    "start_time": "2025-03-29T00:15:15.216Z"
   },
   {
    "duration": 46,
    "start_time": "2025-03-29T00:15:15.582Z"
   },
   {
    "duration": 4,
    "start_time": "2025-03-29T00:15:15.629Z"
   },
   {
    "duration": 17,
    "start_time": "2025-03-29T00:15:15.635Z"
   },
   {
    "duration": 6,
    "start_time": "2025-03-29T00:15:15.653Z"
   },
   {
    "duration": 15,
    "start_time": "2025-04-03T00:36:22.777Z"
   }
  ],
  "kernelspec": {
   "display_name": "base",
   "language": "python",
   "name": "python3"
  },
  "language_info": {
   "codemirror_mode": {
    "name": "ipython",
    "version": 3
   },
   "file_extension": ".py",
   "mimetype": "text/x-python",
   "name": "python",
   "nbconvert_exporter": "python",
   "pygments_lexer": "ipython3",
   "version": "3.12.7"
  },
  "toc": {
   "base_numbering": 1,
   "nav_menu": {},
   "number_sections": true,
   "sideBar": true,
   "skip_h1_title": true,
   "title_cell": "Table of Contents",
   "title_sidebar": "Contents",
   "toc_cell": false,
   "toc_position": {},
   "toc_section_display": true,
   "toc_window_display": false
  }
 },
 "nbformat": 4,
 "nbformat_minor": 2
}
